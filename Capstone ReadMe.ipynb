{
 "cells": [
  {
   "cell_type": "markdown",
   "metadata": {},
   "source": [
    "# COIVD -19 In Incarceration Facilities"
   ]
  },
  {
   "cell_type": "markdown",
   "metadata": {},
   "source": [
    "## Problem Statement\n",
    "---\n",
    "The goal of this project is to examine trends in the rates that inmates and staff members in different state prisons were affected by COVID-19 and draw insights into what could be causing those trends. "
   ]
  },
  {
   "cell_type": "markdown",
   "metadata": {},
   "source": [
    "## Background \n",
    "---\n",
    "Mass incarceration in the United States began in the 1970's and since then the number of inmates in prison has increased nearly 1000 percent and is currently over 1.8million people! \n",
    "https://www.vox.com/2015/7/13/8913297/mass-incarceration-maps-charts\n",
    "\n",
    "The Covid-19 pandemic hit the United States the hardest in 2020. In the time since the pandemic began there have been nearly 34 million cases of covid-19 in the United States. Among those cases, there have been over 600,000 deaths in the general Us Population due to Covid-19.\n",
    "\n",
    "Just like the pandemic hit free Americans, it also hit prisoners. As it stands there have been nearly 400,000 cases of covid-19 among prisoners and among those cases there have been over 2700 deaths. \n",
    "\n",
    "https://www.themarshallproject.org/2020/05/01/a-state-by-state-look-at-coronavirus-in-prisons"
   ]
  },
  {
   "cell_type": "markdown",
   "metadata": {},
   "source": [
    "## Data\n",
    "---\n",
    "The data for this analysis was gathered by the Marshall Project and retrieved from their public github profile. The data was collected from March 2020 up until July 2021 and is a comprehensive tracker of all covid-19 tests administered in all state and federal prisons within the United States. The methodologies and more in depth description of the data can be found here: https://github.com/themarshallproject/COVID_prison_data.\n",
    "\n",
    "This analysis will use four datasets, here is a general description of each:\n",
    "\n",
    "The dataset \"cases\" is a time series collection of commulatiive covid-19 tests and deaths among staff and prisoners in incarceration facilities. The data for this set was collected weekly.\n",
    "\n",
    "The dataset \"rates\" ia a single snapshot dataset of data pertaining to the final rates of COVID-19 contraction and deaths among staff and prisoners in incarceration facilities. The data listed in this set are as of June 2021, the final day of data gathering for this dataset.\n",
    "\n",
    "The dataset \"inmate_pops\" is a collection of prisoner populations collected monthly from March 2020 - June 2021\n",
    "\n",
    "The dataset \"staff_pops\" is a collection of prisoner populations collected monthly from March 2020 - June 2021\n",
    "\n",
    "All of these datasets will be combined to create a dataset title \"model_rates\" which is the dataset that will be used for modeling"
   ]
  },
  {
   "cell_type": "markdown",
   "metadata": {},
   "source": [
    "# Data Cleaning and EDA\n",
    "---\n",
    "\n",
    "Cases dataset:\n",
    "\n",
    "The dataset \"cases\" was narrowed down to only contain columns containg data on the total number of cases and deaths from COVID-19 among prisoners and staff. Testing data was left out because it will not be analyzed in this study. The narrowed dataset was renamed \"model_cases\" and the \"as_of_date\" column was transformed to a format that will allow it to analyzed using later in the project.\n",
    "\n",
    "A new column titled 'region' was created. This column assigned every state a number which corresponds to its region in the country.North East = 1, South = 2, Midwest = 3, West = 4 and Federal which refers to federal prisons = 5.\n",
    "\n",
    "The regional data was broken down into new datasets for each region and the mean for both the inmate cases and the staff cases were calculatued. Based on this initial analysis, which does not take into account the total population we can infer that on average federal prisons had the highest number of covid-19 cases among both inmates and staff. \n",
    "\n",
    "Rates dataset:\n",
    "\n",
    "Columns for state abbreviation and region number were added to the rates dataset and then the dataset was narrowed by dropping out rows that contained rates. The final dataset contained only percentatages and cummulative values along with the abbreviation and region columns and was named \"model_rates\". \n",
    "\n",
    "The bar plots of percentage of covid cases among prisoners and the percentage of covid cases among incarceration facility staff show no obvious trends. Different states have higher and lower percentages and there is no apparent separation of state percentages based on region.\n",
    "\n",
    "Inmates_pop dataset and Staff_pop datasets:\n",
    "\n",
    "A loop that took the maximun value for each state and made it into a column was created from both of these datasets. The columns were entitled \"max_inmate_pop\" and \"max_staff_pop\" and they were added onto the \"model_rates\" dataset\n",
    "\n",
    "Similar to the plot of case percentages, the bar plots of maximum population of prison inmates per state also shows no obvious trends and interestingly it does not correspond to the percentages. This means that the data shows that prisons with higher populations did not necesarily have higher rates of covid cases.\n",
    "\n",
    "\n"
   ]
  },
  {
   "cell_type": "markdown",
   "metadata": {},
   "source": [
    "# Modeling \n",
    "---\n",
    "\n",
    "After performing a Kmeans clustering analysis with a final silhouette score of .45, the states were grouped into just two different clusters. The optimal number of clusters was verified and after examinig the average values for each cluster it appears that the major defining factor of each cluster was its maximum population size. The four states with the highest populations were grouped into one cluster and all of the rest were grouped into another. When examining other factors it is interesting to note that the cluster of states with lower populations actually on average had higher rates of the spread of the disease at 35% prisoner case percentage as opposed to 28% prisoner case percentage in larger population prisons. \n",
    "\n",
    "\n",
    "I then performed a DBscan clustering of the data. In this analysis the data was also grouped into only two different clusters, but the silhouette score was very low at .19 which signified that the clusters did were not very different from each other and the clustering did not provide much meaningful insight. Because of this I did not further explore the DBscan clusters and focused on the KMeans clusters. It is interesting to note though that the DB clusters relied most on region and percentages than the KMeans which relied mostly cummulative numbers."
   ]
  },
  {
   "cell_type": "markdown",
   "metadata": {},
   "source": [
    "# Conclusions and Recommendations\n",
    "---\n",
    "The goal of this project was to examine trends in the rates that inmates and staff members in different state prisons were affected by COVID-19 so that I could draw insights into what could be causing those trends. After data manipulation, feature engineering and analysis I was not able to find any major trends. From what I have done thus far the only thing that can be said is that prisons with higher populations had higher numbers of cases. Regardless of region or even prison population, by this analysis percentage wise there were no major differences that set certain states apart from others. There was no way to group good performing or bad performing states so I after all of this I think I chose the wrong kind of testing methods. \n",
    "\n",
    "In order to draw better insight I would recommend breaking the analysis down by state and possibly grouping based on percentages instead of population or region. This would be a lot more involved but would provide better insights that could be significant and used to determine what factors are protective or detrimental to prisons when protecting their inmates and staff from a pandemic. A few steps that I would recommend are:\n",
    "Including information of square footage of facilities, including data on age of inmates, including data on housing type, ie how many inmates per cell and hypothesis testing to see if there are differences in the rates of the disease in each state or even in the states with lower rates vs those with higher rates.\n",
    "\n"
   ]
  },
  {
   "cell_type": "code",
   "execution_count": null,
   "metadata": {},
   "outputs": [],
   "source": []
  }
 ],
 "metadata": {
  "kernelspec": {
   "display_name": "Python 3",
   "language": "python",
   "name": "python3"
  },
  "language_info": {
   "codemirror_mode": {
    "name": "ipython",
    "version": 3
   },
   "file_extension": ".py",
   "mimetype": "text/x-python",
   "name": "python",
   "nbconvert_exporter": "python",
   "pygments_lexer": "ipython3",
   "version": "3.8.5"
  }
 },
 "nbformat": 4,
 "nbformat_minor": 4
}
