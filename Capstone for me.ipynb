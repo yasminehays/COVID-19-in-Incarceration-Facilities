{
 "cells": [
  {
   "cell_type": "markdown",
   "metadata": {},
   "source": [
    "# Covid -19 rates in Incarceration facilities "
   ]
  },
  {
   "cell_type": "markdown",
   "metadata": {},
   "source": [
    "## Imports\n",
    "---"
   ]
  },
  {
   "cell_type": "code",
   "execution_count": 1023,
   "metadata": {},
   "outputs": [],
   "source": [
    "import pandas as pd \n",
    "import numpy as np \n",
    "import seaborn as sns\n",
    "import datetime\n",
    "import time\n",
    "import matplotlib.pyplot as plt\n",
    "\n",
    "from sklearn.cluster import DBSCAN, KMeans\n",
    "from sklearn.preprocessing import StandardScaler\n",
    "from sklearn.model_selection import GridSearchCV, train_test_split\n",
    "from sklearn.linear_model import LogisticRegression, LinearRegression\n",
    "from sklearn.ensemble import RandomForestClassifier, VotingClassifier\n",
    "from sklearn.svm import SVC\n",
    "from sklearn.metrics import accuracy_score\n",
    "\n",
    "from sklearn.datasets import make_blobs\n",
    "from sklearn.metrics import silhouette_score"
   ]
  },
  {
   "cell_type": "markdown",
   "metadata": {},
   "source": [
    "## Problem Statement\n",
    "---\n",
    "The goal of this project is to examine trends in the rates that inmates and staff members in different state prisons were affected by COVID-19 and draw insights into what could be causing those trends. \n"
   ]
  },
  {
   "cell_type": "markdown",
   "metadata": {},
   "source": [
    "## Background \n",
    "---\n",
    "Mass incarceration in the United States began in the 1970's and since then the number of inmates in prison has increased nearly 1000 percent and is currently over 1.8million people! \n",
    "https://www.vox.com/2015/7/13/8913297/mass-incarceration-maps-charts\n",
    "\n",
    "The Covid-19 pandemic hit the United States the hardest in 2020. In the time since the pandemic began there have been nearly 34 million cases of covid-19 in the United States. Among those cases, there have been over 600,000 deaths in the general Us Population due to Covid-19.\n",
    "\n",
    "Just like the pandemic hit free Americans, it also hit prisoners. As it stands there have been nearly 400,000 cases of covid-19 among prisoners and among those cases there have been over 2700 deaths. \n",
    "\n",
    "https://www.themarshallproject.org/2020/05/01/a-state-by-state-look-at-coronavirus-in-prisons"
   ]
  },
  {
   "cell_type": "markdown",
   "metadata": {},
   "source": [
    "## Data\n",
    "---\n",
    "The data for this analysis was gathered by the Marshall Project and retrieved from their public github profile. The data was collected from March 2020 up until July 2021 and is a comprehensive tracker of all covid-19 tests administered in all state and federal prisons within the United States. The methodologies and more in depth description of the data can be found here: https://github.com/themarshallproject/COVID_prison_data.\n",
    "\n",
    "This analysis will use four datasets, here is a general description of each:\n",
    "\n",
    "The dataset \"cases\" is a time series collection of commulatiive covid-19 tests and deaths among staff and prisoners in incarceration facilities. The data for this set was collected weekly.\n",
    "\n",
    "The dataset \"rates\" ia a single snapshot dataset of data pertaining to the final rates of COVID-19 contraction and deaths among staff and prisoners in incarceration facilities. The data listed in this set are as of June 2021, the final day of data gathering for this dataset.\n",
    "\n",
    "The dataset \"inmate_pops\" is a collection of prisoner populations collected monthly from March 2020 - June 2021\n",
    "\n",
    "The dataset \"staff_pops\" is a collection of prisoner populations collected monthly from March 2020 - June 2021\n",
    "\n",
    "All of these datasets will be combined to create a dataset title \"model_rates\" which is the dataset that will be used for modeling\n"
   ]
  },
  {
   "cell_type": "code",
   "execution_count": 1024,
   "metadata": {},
   "outputs": [],
   "source": [
    "cases = pd.read_csv(\"./COVID_prison_data/data/covid_prison_cases.csv\")\n",
    "rates = pd.read_csv(\"./COVID_prison_data/data/covid_prison_rates.csv\")\n",
    "inmate_pops = pd.read_csv(\"./COVID_prison_data/data/prison_populations.csv\")\n",
    "staff_pops = pd.read_csv(\"./COVID_prison_data/data/staff_populations.csv\")"
   ]
  },
  {
   "cell_type": "markdown",
   "metadata": {},
   "source": [
    "# Data Cleaning and EDA\n",
    "---"
   ]
  },
  {
   "cell_type": "markdown",
   "metadata": {},
   "source": [
    "---\n",
    "### Cases Dataset\n",
    "---"
   ]
  },
  {
   "cell_type": "code",
   "execution_count": 1025,
   "metadata": {},
   "outputs": [
    {
     "data": {
      "text/html": [
       "<div>\n",
       "<style scoped>\n",
       "    .dataframe tbody tr th:only-of-type {\n",
       "        vertical-align: middle;\n",
       "    }\n",
       "\n",
       "    .dataframe tbody tr th {\n",
       "        vertical-align: top;\n",
       "    }\n",
       "\n",
       "    .dataframe thead th {\n",
       "        text-align: right;\n",
       "    }\n",
       "</style>\n",
       "<table border=\"1\" class=\"dataframe\">\n",
       "  <thead>\n",
       "    <tr style=\"text-align: right;\">\n",
       "      <th></th>\n",
       "      <th>name</th>\n",
       "      <th>abbreviation</th>\n",
       "      <th>staff_tests</th>\n",
       "      <th>staff_tests_with_multiples</th>\n",
       "      <th>total_staff_cases</th>\n",
       "      <th>staff_recovered</th>\n",
       "      <th>total_staff_deaths</th>\n",
       "      <th>staff_partial_dose</th>\n",
       "      <th>staff_full_dose</th>\n",
       "      <th>prisoner_tests</th>\n",
       "      <th>prisoner_tests_with_multiples</th>\n",
       "      <th>total_prisoner_cases</th>\n",
       "      <th>prisoners_recovered</th>\n",
       "      <th>total_prisoner_deaths</th>\n",
       "      <th>prisoners_partial_dose</th>\n",
       "      <th>prisoners_full_dose</th>\n",
       "      <th>as_of_date</th>\n",
       "      <th>notes</th>\n",
       "    </tr>\n",
       "  </thead>\n",
       "  <tbody>\n",
       "    <tr>\n",
       "      <th>0</th>\n",
       "      <td>Alabama</td>\n",
       "      <td>AL</td>\n",
       "      <td>NaN</td>\n",
       "      <td>NaN</td>\n",
       "      <td>NaN</td>\n",
       "      <td>NaN</td>\n",
       "      <td>NaN</td>\n",
       "      <td>NaN</td>\n",
       "      <td>NaN</td>\n",
       "      <td>NaN</td>\n",
       "      <td>NaN</td>\n",
       "      <td>NaN</td>\n",
       "      <td>NaN</td>\n",
       "      <td>NaN</td>\n",
       "      <td>NaN</td>\n",
       "      <td>NaN</td>\n",
       "      <td>NaN</td>\n",
       "      <td>NaN</td>\n",
       "    </tr>\n",
       "    <tr>\n",
       "      <th>1</th>\n",
       "      <td>Alaska</td>\n",
       "      <td>AK</td>\n",
       "      <td>NaN</td>\n",
       "      <td>NaN</td>\n",
       "      <td>332.0</td>\n",
       "      <td>NaN</td>\n",
       "      <td>0.0</td>\n",
       "      <td>NaN</td>\n",
       "      <td>NaN</td>\n",
       "      <td>NaN</td>\n",
       "      <td>38707.0</td>\n",
       "      <td>2440.0</td>\n",
       "      <td>NaN</td>\n",
       "      <td>5.0</td>\n",
       "      <td>3460.0</td>\n",
       "      <td>3097.0</td>\n",
       "      <td>06/22/2021</td>\n",
       "      <td>vaccines as of June 23</td>\n",
       "    </tr>\n",
       "    <tr>\n",
       "      <th>2</th>\n",
       "      <td>Arizona</td>\n",
       "      <td>AZ</td>\n",
       "      <td>NaN</td>\n",
       "      <td>NaN</td>\n",
       "      <td>2787.0</td>\n",
       "      <td>2778.0</td>\n",
       "      <td>NaN</td>\n",
       "      <td>NaN</td>\n",
       "      <td>NaN</td>\n",
       "      <td>47899.0</td>\n",
       "      <td>NaN</td>\n",
       "      <td>12328.0</td>\n",
       "      <td>12251.0</td>\n",
       "      <td>65.0</td>\n",
       "      <td>NaN</td>\n",
       "      <td>NaN</td>\n",
       "      <td>06/22/2021</td>\n",
       "      <td>NaN</td>\n",
       "    </tr>\n",
       "    <tr>\n",
       "      <th>3</th>\n",
       "      <td>Arkansas</td>\n",
       "      <td>AR</td>\n",
       "      <td>NaN</td>\n",
       "      <td>NaN</td>\n",
       "      <td>NaN</td>\n",
       "      <td>NaN</td>\n",
       "      <td>4.0</td>\n",
       "      <td>NaN</td>\n",
       "      <td>NaN</td>\n",
       "      <td>NaN</td>\n",
       "      <td>NaN</td>\n",
       "      <td>11425.0</td>\n",
       "      <td>11353.0</td>\n",
       "      <td>52.0</td>\n",
       "      <td>NaN</td>\n",
       "      <td>NaN</td>\n",
       "      <td>06/23/2021</td>\n",
       "      <td>We have been told vaccinations have begun in t...</td>\n",
       "    </tr>\n",
       "    <tr>\n",
       "      <th>4</th>\n",
       "      <td>California</td>\n",
       "      <td>CA</td>\n",
       "      <td>NaN</td>\n",
       "      <td>NaN</td>\n",
       "      <td>NaN</td>\n",
       "      <td>NaN</td>\n",
       "      <td>NaN</td>\n",
       "      <td>35295.0</td>\n",
       "      <td>33474.0</td>\n",
       "      <td>129415.0</td>\n",
       "      <td>1602906.0</td>\n",
       "      <td>49395.0</td>\n",
       "      <td>48517.0</td>\n",
       "      <td>227.0</td>\n",
       "      <td>71317.0</td>\n",
       "      <td>69400.0</td>\n",
       "      <td>06/22/2021</td>\n",
       "      <td>NaN</td>\n",
       "    </tr>\n",
       "  </tbody>\n",
       "</table>\n",
       "</div>"
      ],
      "text/plain": [
       "         name abbreviation  staff_tests  staff_tests_with_multiples  \\\n",
       "0     Alabama           AL          NaN                         NaN   \n",
       "1      Alaska           AK          NaN                         NaN   \n",
       "2     Arizona           AZ          NaN                         NaN   \n",
       "3    Arkansas           AR          NaN                         NaN   \n",
       "4  California           CA          NaN                         NaN   \n",
       "\n",
       "   total_staff_cases  staff_recovered  total_staff_deaths  staff_partial_dose  \\\n",
       "0                NaN              NaN                 NaN                 NaN   \n",
       "1              332.0              NaN                 0.0                 NaN   \n",
       "2             2787.0           2778.0                 NaN                 NaN   \n",
       "3                NaN              NaN                 4.0                 NaN   \n",
       "4                NaN              NaN                 NaN             35295.0   \n",
       "\n",
       "   staff_full_dose  prisoner_tests  prisoner_tests_with_multiples  \\\n",
       "0              NaN             NaN                            NaN   \n",
       "1              NaN             NaN                        38707.0   \n",
       "2              NaN         47899.0                            NaN   \n",
       "3              NaN             NaN                            NaN   \n",
       "4          33474.0        129415.0                      1602906.0   \n",
       "\n",
       "   total_prisoner_cases  prisoners_recovered  total_prisoner_deaths  \\\n",
       "0                   NaN                  NaN                    NaN   \n",
       "1                2440.0                  NaN                    5.0   \n",
       "2               12328.0              12251.0                   65.0   \n",
       "3               11425.0              11353.0                   52.0   \n",
       "4               49395.0              48517.0                  227.0   \n",
       "\n",
       "   prisoners_partial_dose  prisoners_full_dose  as_of_date  \\\n",
       "0                     NaN                  NaN         NaN   \n",
       "1                  3460.0               3097.0  06/22/2021   \n",
       "2                     NaN                  NaN  06/22/2021   \n",
       "3                     NaN                  NaN  06/23/2021   \n",
       "4                 71317.0              69400.0  06/22/2021   \n",
       "\n",
       "                                               notes  \n",
       "0                                                NaN  \n",
       "1                             vaccines as of June 23  \n",
       "2                                                NaN  \n",
       "3  We have been told vaccinations have begun in t...  \n",
       "4                                                NaN  "
      ]
     },
     "execution_count": 1025,
     "metadata": {},
     "output_type": "execute_result"
    }
   ],
   "source": [
    "cases.head()"
   ]
  },
  {
   "cell_type": "code",
   "execution_count": 1026,
   "metadata": {},
   "outputs": [],
   "source": [
    "#Narrowing down to columns necesarry for the purposes of this analysis \n",
    "model_cases = cases[['name','abbreviation','total_staff_cases','total_staff_deaths','total_prisoner_cases',\n",
    "                     'total_prisoner_deaths','as_of_date']].set_index('name') "
   ]
  },
  {
   "cell_type": "code",
   "execution_count": 1027,
   "metadata": {
    "scrolled": true
   },
   "outputs": [
    {
     "data": {
      "text/html": [
       "<div>\n",
       "<style scoped>\n",
       "    .dataframe tbody tr th:only-of-type {\n",
       "        vertical-align: middle;\n",
       "    }\n",
       "\n",
       "    .dataframe tbody tr th {\n",
       "        vertical-align: top;\n",
       "    }\n",
       "\n",
       "    .dataframe thead th {\n",
       "        text-align: right;\n",
       "    }\n",
       "</style>\n",
       "<table border=\"1\" class=\"dataframe\">\n",
       "  <thead>\n",
       "    <tr style=\"text-align: right;\">\n",
       "      <th></th>\n",
       "      <th>abbreviation</th>\n",
       "      <th>total_staff_cases</th>\n",
       "      <th>total_staff_deaths</th>\n",
       "      <th>total_prisoner_cases</th>\n",
       "      <th>total_prisoner_deaths</th>\n",
       "      <th>as_of_date</th>\n",
       "    </tr>\n",
       "    <tr>\n",
       "      <th>name</th>\n",
       "      <th></th>\n",
       "      <th></th>\n",
       "      <th></th>\n",
       "      <th></th>\n",
       "      <th></th>\n",
       "      <th></th>\n",
       "    </tr>\n",
       "  </thead>\n",
       "  <tbody>\n",
       "    <tr>\n",
       "      <th>Alabama</th>\n",
       "      <td>AL</td>\n",
       "      <td>NaN</td>\n",
       "      <td>NaN</td>\n",
       "      <td>NaN</td>\n",
       "      <td>NaN</td>\n",
       "      <td>NaN</td>\n",
       "    </tr>\n",
       "    <tr>\n",
       "      <th>Alaska</th>\n",
       "      <td>AK</td>\n",
       "      <td>332.0</td>\n",
       "      <td>0.0</td>\n",
       "      <td>2440.0</td>\n",
       "      <td>5.0</td>\n",
       "      <td>06/22/2021</td>\n",
       "    </tr>\n",
       "    <tr>\n",
       "      <th>Arizona</th>\n",
       "      <td>AZ</td>\n",
       "      <td>2787.0</td>\n",
       "      <td>NaN</td>\n",
       "      <td>12328.0</td>\n",
       "      <td>65.0</td>\n",
       "      <td>06/22/2021</td>\n",
       "    </tr>\n",
       "    <tr>\n",
       "      <th>Arkansas</th>\n",
       "      <td>AR</td>\n",
       "      <td>NaN</td>\n",
       "      <td>4.0</td>\n",
       "      <td>11425.0</td>\n",
       "      <td>52.0</td>\n",
       "      <td>06/23/2021</td>\n",
       "    </tr>\n",
       "    <tr>\n",
       "      <th>California</th>\n",
       "      <td>CA</td>\n",
       "      <td>NaN</td>\n",
       "      <td>NaN</td>\n",
       "      <td>49395.0</td>\n",
       "      <td>227.0</td>\n",
       "      <td>06/22/2021</td>\n",
       "    </tr>\n",
       "  </tbody>\n",
       "</table>\n",
       "</div>"
      ],
      "text/plain": [
       "           abbreviation  total_staff_cases  total_staff_deaths  \\\n",
       "name                                                             \n",
       "Alabama              AL                NaN                 NaN   \n",
       "Alaska               AK              332.0                 0.0   \n",
       "Arizona              AZ             2787.0                 NaN   \n",
       "Arkansas             AR                NaN                 4.0   \n",
       "California           CA                NaN                 NaN   \n",
       "\n",
       "            total_prisoner_cases  total_prisoner_deaths  as_of_date  \n",
       "name                                                                 \n",
       "Alabama                      NaN                    NaN         NaN  \n",
       "Alaska                    2440.0                    5.0  06/22/2021  \n",
       "Arizona                  12328.0                   65.0  06/22/2021  \n",
       "Arkansas                 11425.0                   52.0  06/23/2021  \n",
       "California               49395.0                  227.0  06/22/2021  "
      ]
     },
     "execution_count": 1027,
     "metadata": {},
     "output_type": "execute_result"
    }
   ],
   "source": [
    "model_cases.head()"
   ]
  },
  {
   "cell_type": "code",
   "execution_count": 1028,
   "metadata": {
    "scrolled": false
   },
   "outputs": [],
   "source": [
    "# Formatting the date for analysis\n",
    "model_cases['as_of_date'] = pd.to_datetime(model_cases['as_of_date'])"
   ]
  },
  {
   "cell_type": "markdown",
   "metadata": {},
   "source": [
    "The dataset \"cases\" was narrowed down to only contain columns containg data on the total number of cases and deaths from COVID-19 among prisoners and staff. Testing data was left out because it will not be analyzed in this study. The narrowed dataset was renamed \"model_cases\" and the \"as_of_date\" column was transformed to a format that will allow it to analyzed using later in the project. "
   ]
  },
  {
   "cell_type": "code",
   "execution_count": 1029,
   "metadata": {
    "scrolled": false
   },
   "outputs": [
    {
     "data": {
      "text/plain": [
       "LA    66\n",
       "ME    66\n",
       "HI    66\n",
       "WY    66\n",
       "GA    66\n",
       "Name: abbreviation, dtype: int64"
      ]
     },
     "execution_count": 1029,
     "metadata": {},
     "output_type": "execute_result"
    }
   ],
   "source": [
    "#Checking to see how many intervals of data each state has \n",
    "model_cases['abbreviation'].value_counts().head()"
   ]
  },
  {
   "cell_type": "code",
   "execution_count": 1030,
   "metadata": {
    "scrolled": true
   },
   "outputs": [],
   "source": [
    "#Creating lists of each region and the states contained within each region\n",
    "\n",
    "North_East =['ME','VT','NH','MA','CT','NY','PA','NJ','RI']\n",
    "South =['TX','OK','AR','LA','MS','TN','AL','GA','FL','SC','KY','VA','NC','WV','DE','MD']\n",
    "Midwest = ['ND','SD','NE','KS','MO','IA','IL','IN','OH','MI','WI','MN','OH']\n",
    "West = ['WA','OR','CA','MT','ID','NV','AZ','NM','CO','UT','WY','HI','AK']\n",
    "Federal = ['US']\n",
    "\n",
    "#Creating a dictionairy that will have the states as well as a number specifying their region\n",
    "region_dict = {}\n",
    "\n",
    "regions = [North_East, South, Midwest, West,Federal]\n",
    "\n",
    "region_dict = {}\n",
    "for index, region in enumerate(regions):\n",
    "    dict_to_add = {state: index+1 for state in region}\n",
    "    region_dict.update(dict_to_add) \n"
   ]
  },
  {
   "cell_type": "code",
   "execution_count": 1031,
   "metadata": {},
   "outputs": [
    {
     "data": {
      "text/plain": [
       "set()"
      ]
     },
     "execution_count": 1031,
     "metadata": {},
     "output_type": "execute_result"
    }
   ],
   "source": [
    "#Checking to make sure all states are accounted for and have assigned region specifiers\n",
    "set(model_cases['abbreviation'].unique()) - set(region_dict.keys())"
   ]
  },
  {
   "cell_type": "code",
   "execution_count": 1032,
   "metadata": {},
   "outputs": [],
   "source": [
    "#Creating a column assigning values to each state corresponding to their geographical region in the US. \n",
    "model_cases['region'] = model_cases['abbreviation'].map(region_dict)"
   ]
  },
  {
   "cell_type": "markdown",
   "metadata": {},
   "source": [
    "A new column titled 'region' was created. This column assigned every state a number which corresponds to its region in the country.North East = 1, South = 2, Midwest = 3, West = 4 and Federal which refers to federal prisons = 5."
   ]
  },
  {
   "cell_type": "code",
   "execution_count": 1033,
   "metadata": {
    "scrolled": false
   },
   "outputs": [
    {
     "data": {
      "text/html": [
       "<div>\n",
       "<style scoped>\n",
       "    .dataframe tbody tr th:only-of-type {\n",
       "        vertical-align: middle;\n",
       "    }\n",
       "\n",
       "    .dataframe tbody tr th {\n",
       "        vertical-align: top;\n",
       "    }\n",
       "\n",
       "    .dataframe thead th {\n",
       "        text-align: right;\n",
       "    }\n",
       "</style>\n",
       "<table border=\"1\" class=\"dataframe\">\n",
       "  <thead>\n",
       "    <tr style=\"text-align: right;\">\n",
       "      <th></th>\n",
       "      <th>abbreviation</th>\n",
       "      <th>total_staff_cases</th>\n",
       "      <th>total_staff_deaths</th>\n",
       "      <th>total_prisoner_cases</th>\n",
       "      <th>total_prisoner_deaths</th>\n",
       "      <th>as_of_date</th>\n",
       "      <th>region</th>\n",
       "    </tr>\n",
       "    <tr>\n",
       "      <th>name</th>\n",
       "      <th></th>\n",
       "      <th></th>\n",
       "      <th></th>\n",
       "      <th></th>\n",
       "      <th></th>\n",
       "      <th></th>\n",
       "      <th></th>\n",
       "    </tr>\n",
       "  </thead>\n",
       "  <tbody>\n",
       "    <tr>\n",
       "      <th>Alabama</th>\n",
       "      <td>AL</td>\n",
       "      <td>NaN</td>\n",
       "      <td>NaN</td>\n",
       "      <td>NaN</td>\n",
       "      <td>NaN</td>\n",
       "      <td>NaT</td>\n",
       "      <td>2</td>\n",
       "    </tr>\n",
       "    <tr>\n",
       "      <th>Alaska</th>\n",
       "      <td>AK</td>\n",
       "      <td>332.0</td>\n",
       "      <td>0.0</td>\n",
       "      <td>2440.0</td>\n",
       "      <td>5.0</td>\n",
       "      <td>2021-06-22</td>\n",
       "      <td>4</td>\n",
       "    </tr>\n",
       "    <tr>\n",
       "      <th>Arizona</th>\n",
       "      <td>AZ</td>\n",
       "      <td>2787.0</td>\n",
       "      <td>NaN</td>\n",
       "      <td>12328.0</td>\n",
       "      <td>65.0</td>\n",
       "      <td>2021-06-22</td>\n",
       "      <td>4</td>\n",
       "    </tr>\n",
       "    <tr>\n",
       "      <th>Arkansas</th>\n",
       "      <td>AR</td>\n",
       "      <td>NaN</td>\n",
       "      <td>4.0</td>\n",
       "      <td>11425.0</td>\n",
       "      <td>52.0</td>\n",
       "      <td>2021-06-23</td>\n",
       "      <td>2</td>\n",
       "    </tr>\n",
       "    <tr>\n",
       "      <th>California</th>\n",
       "      <td>CA</td>\n",
       "      <td>NaN</td>\n",
       "      <td>NaN</td>\n",
       "      <td>49395.0</td>\n",
       "      <td>227.0</td>\n",
       "      <td>2021-06-22</td>\n",
       "      <td>4</td>\n",
       "    </tr>\n",
       "  </tbody>\n",
       "</table>\n",
       "</div>"
      ],
      "text/plain": [
       "           abbreviation  total_staff_cases  total_staff_deaths  \\\n",
       "name                                                             \n",
       "Alabama              AL                NaN                 NaN   \n",
       "Alaska               AK              332.0                 0.0   \n",
       "Arizona              AZ             2787.0                 NaN   \n",
       "Arkansas             AR                NaN                 4.0   \n",
       "California           CA                NaN                 NaN   \n",
       "\n",
       "            total_prisoner_cases  total_prisoner_deaths as_of_date  region  \n",
       "name                                                                        \n",
       "Alabama                      NaN                    NaN        NaT       2  \n",
       "Alaska                    2440.0                    5.0 2021-06-22       4  \n",
       "Arizona                  12328.0                   65.0 2021-06-22       4  \n",
       "Arkansas                 11425.0                   52.0 2021-06-23       2  \n",
       "California               49395.0                  227.0 2021-06-22       4  "
      ]
     },
     "execution_count": 1033,
     "metadata": {},
     "output_type": "execute_result"
    }
   ],
   "source": [
    "model_cases.head()"
   ]
  },
  {
   "cell_type": "code",
   "execution_count": 1034,
   "metadata": {},
   "outputs": [
    {
     "data": {
      "text/plain": [
       "(3366, 7)"
      ]
     },
     "execution_count": 1034,
     "metadata": {},
     "output_type": "execute_result"
    }
   ],
   "source": [
    "model_cases.shape"
   ]
  },
  {
   "cell_type": "code",
   "execution_count": 1035,
   "metadata": {
    "scrolled": false
   },
   "outputs": [
    {
     "data": {
      "text/plain": [
       "abbreviation               0\n",
       "total_staff_cases        292\n",
       "total_staff_deaths       515\n",
       "total_prisoner_cases     143\n",
       "total_prisoner_deaths    135\n",
       "as_of_date                24\n",
       "region                     0\n",
       "dtype: int64"
      ]
     },
     "execution_count": 1035,
     "metadata": {},
     "output_type": "execute_result"
    }
   ],
   "source": [
    "#Checking for null values \n",
    "model_cases.isnull().sum()"
   ]
  },
  {
   "cell_type": "code",
   "execution_count": 1161,
   "metadata": {},
   "outputs": [],
   "source": [
    "# Creating datasets for each of the regions. Two different methods \n",
    "\n",
    "NE_data = model_cases.loc[model_cases['region'] == 1]\n",
    "\n",
    "South_data = model_cases.loc[model_cases['region'] == 2]\n",
    "\n",
    "MW_data = model_cases.loc[model_cases['region'] == 3]\n",
    "\n",
    "West_data = model_cases.loc[model_cases['abbreviation'].isin(West)]\n",
    "\n",
    "Fed_data = model_cases.loc[model_cases['abbreviation'].isin(Federal)]"
   ]
  },
  {
   "cell_type": "code",
   "execution_count": 1164,
   "metadata": {
    "scrolled": true
   },
   "outputs": [
    {
     "name": "stdout",
     "output_type": "stream",
     "text": [
      "North East Mean total prisoner cases: 1638.4150268336314\n",
      "South Mean total prisoner cases: 4798.75944333996\n",
      "Midwest Mean total prisoner cases: 3867.374352331606\n",
      "West Mean total prisoner cases: 3834.25\n",
      "Federal Mean total prisoner cases: 19030.58\n"
     ]
    }
   ],
   "source": [
    "#Preliminary Initial means for total prisoner cases by region ignoring total population\n",
    "print(\"North East Mean total prisoner cases:\", NE_data['total_prisoner_cases'].mean())\n",
    "print(\"South Mean total prisoner cases:\", South_data['total_prisoner_cases'].mean())\n",
    "print(\"Midwest Mean total prisoner cases:\", MW_data['total_prisoner_cases'].mean())\n",
    "print(\"West Mean total prisoner cases:\", West_data['total_prisoner_cases'].mean())\n",
    "print(\"Federal Mean total prisoner cases:\", Fed_data['total_prisoner_cases'].mean())"
   ]
  },
  {
   "cell_type": "code",
   "execution_count": 1163,
   "metadata": {
    "scrolled": true
   },
   "outputs": [
    {
     "name": "stdout",
     "output_type": "stream",
     "text": [
      "North East Mean total staff cases: 801.3418181818182\n",
      "South Mean total staff cases: 1300.345532831001\n",
      "Midwest Mean total staff cases: 1070.7786998616873\n",
      "West Mean total staff cases: 949.2071960297767\n",
      "Federal Mean total staff cases: 3446.939393939394\n"
     ]
    }
   ],
   "source": [
    "#Preliminary Initial means for total staff cases by region ignoring total population\n",
    "South_data['total_prisoner_cases'].describe()\n",
    "print(\"North East Mean total staff cases:\", NE_data['total_staff_cases'].mean())\n",
    "print(\"South Mean total staff cases:\", South_data['total_staff_cases'].mean())\n",
    "print(\"Midwest Mean total staff cases:\", MW_data['total_staff_cases'].mean())\n",
    "print(\"West Mean total staff cases:\", West_data['total_staff_cases'].mean())\n",
    "print(\"Federal Mean total staff cases:\", Fed_data['total_staff_cases'].mean())"
   ]
  },
  {
   "cell_type": "markdown",
   "metadata": {},
   "source": [
    "The regional data was broken down into new datasets for each region and the mean for both the inmate cases and the staff cases were calculatued. Based on this initial analysis, which does not take into account the total population we can infer that on average federal prisons had the highest number of covid-19 cases among both inmates and staff. "
   ]
  },
  {
   "cell_type": "markdown",
   "metadata": {},
   "source": [
    "---\n",
    "### Rates Dataset\n",
    "---"
   ]
  },
  {
   "cell_type": "code",
   "execution_count": 1037,
   "metadata": {
    "scrolled": true
   },
   "outputs": [
    {
     "data": {
      "text/html": [
       "<div>\n",
       "<style scoped>\n",
       "    .dataframe tbody tr th:only-of-type {\n",
       "        vertical-align: middle;\n",
       "    }\n",
       "\n",
       "    .dataframe tbody tr th {\n",
       "        vertical-align: top;\n",
       "    }\n",
       "\n",
       "    .dataframe thead th {\n",
       "        text-align: right;\n",
       "    }\n",
       "</style>\n",
       "<table border=\"1\" class=\"dataframe\">\n",
       "  <thead>\n",
       "    <tr style=\"text-align: right;\">\n",
       "      <th></th>\n",
       "      <th>name</th>\n",
       "      <th>latest_week</th>\n",
       "      <th>cumulative_prisoner_cases</th>\n",
       "      <th>prisoner_cases_pct</th>\n",
       "      <th>prisoner_case_rate</th>\n",
       "      <th>cumulative_prisoner_deaths</th>\n",
       "      <th>prisoner_deaths_pct</th>\n",
       "      <th>prisoner_death_rate</th>\n",
       "      <th>cumulative_staff_cases</th>\n",
       "      <th>staff_cases_pct</th>\n",
       "      <th>staff_case_rate</th>\n",
       "      <th>cumulative_staff_deaths</th>\n",
       "      <th>staff_deaths_pct</th>\n",
       "      <th>staff_death_rate</th>\n",
       "    </tr>\n",
       "  </thead>\n",
       "  <tbody>\n",
       "    <tr>\n",
       "      <th>0</th>\n",
       "      <td>Alabama</td>\n",
       "      <td>06/22/2021</td>\n",
       "      <td>1661</td>\n",
       "      <td>0.078668</td>\n",
       "      <td>1 in 13 prisoners</td>\n",
       "      <td>66</td>\n",
       "      <td>0.003126</td>\n",
       "      <td>1 in 320 prisoners</td>\n",
       "      <td>1056</td>\n",
       "      <td>0.278481</td>\n",
       "      <td>1 in 4 staff</td>\n",
       "      <td>3</td>\n",
       "      <td>0.000791</td>\n",
       "      <td>1 in 1264 staff</td>\n",
       "    </tr>\n",
       "    <tr>\n",
       "      <th>1</th>\n",
       "      <td>Alaska</td>\n",
       "      <td>06/22/2021</td>\n",
       "      <td>2440</td>\n",
       "      <td>0.510888</td>\n",
       "      <td>1 in 2 prisoners</td>\n",
       "      <td>5</td>\n",
       "      <td>0.001047</td>\n",
       "      <td>1 in 955 prisoners</td>\n",
       "      <td>332</td>\n",
       "      <td>0.224173</td>\n",
       "      <td>1 in 4 staff</td>\n",
       "      <td>0</td>\n",
       "      <td>0.000000</td>\n",
       "      <td>0</td>\n",
       "    </tr>\n",
       "    <tr>\n",
       "      <th>2</th>\n",
       "      <td>Arizona</td>\n",
       "      <td>06/22/2021</td>\n",
       "      <td>12328</td>\n",
       "      <td>0.291029</td>\n",
       "      <td>2 in 7 prisoners</td>\n",
       "      <td>65</td>\n",
       "      <td>0.001534</td>\n",
       "      <td>1 in 652 prisoners</td>\n",
       "      <td>2787</td>\n",
       "      <td>0.306432</td>\n",
       "      <td>1 in 3 staff</td>\n",
       "      <td>1</td>\n",
       "      <td>0.000110</td>\n",
       "      <td>1 in 9095 staff</td>\n",
       "    </tr>\n",
       "    <tr>\n",
       "      <th>3</th>\n",
       "      <td>Arkansas</td>\n",
       "      <td>06/22/2021</td>\n",
       "      <td>11425</td>\n",
       "      <td>0.652783</td>\n",
       "      <td>2 in 3 prisoners</td>\n",
       "      <td>52</td>\n",
       "      <td>0.002971</td>\n",
       "      <td>1 in 337 prisoners</td>\n",
       "      <td>813</td>\n",
       "      <td>0.148901</td>\n",
       "      <td>1 in 7 staff</td>\n",
       "      <td>4</td>\n",
       "      <td>0.000733</td>\n",
       "      <td>1 in 1365 staff</td>\n",
       "    </tr>\n",
       "    <tr>\n",
       "      <th>4</th>\n",
       "      <td>California</td>\n",
       "      <td>06/22/2021</td>\n",
       "      <td>49395</td>\n",
       "      <td>0.419886</td>\n",
       "      <td>2 in 5 prisoners</td>\n",
       "      <td>227</td>\n",
       "      <td>0.001930</td>\n",
       "      <td>1 in 518 prisoners</td>\n",
       "      <td>17002</td>\n",
       "      <td>0.267870</td>\n",
       "      <td>1 in 4 staff</td>\n",
       "      <td>28</td>\n",
       "      <td>0.000441</td>\n",
       "      <td>1 in 2267 staff</td>\n",
       "    </tr>\n",
       "  </tbody>\n",
       "</table>\n",
       "</div>"
      ],
      "text/plain": [
       "         name latest_week  cumulative_prisoner_cases  prisoner_cases_pct  \\\n",
       "0     Alabama  06/22/2021                       1661            0.078668   \n",
       "1      Alaska  06/22/2021                       2440            0.510888   \n",
       "2     Arizona  06/22/2021                      12328            0.291029   \n",
       "3    Arkansas  06/22/2021                      11425            0.652783   \n",
       "4  California  06/22/2021                      49395            0.419886   \n",
       "\n",
       "  prisoner_case_rate  cumulative_prisoner_deaths  prisoner_deaths_pct  \\\n",
       "0  1 in 13 prisoners                          66             0.003126   \n",
       "1   1 in 2 prisoners                           5             0.001047   \n",
       "2   2 in 7 prisoners                          65             0.001534   \n",
       "3   2 in 3 prisoners                          52             0.002971   \n",
       "4   2 in 5 prisoners                         227             0.001930   \n",
       "\n",
       "  prisoner_death_rate  cumulative_staff_cases  staff_cases_pct  \\\n",
       "0  1 in 320 prisoners                    1056         0.278481   \n",
       "1  1 in 955 prisoners                     332         0.224173   \n",
       "2  1 in 652 prisoners                    2787         0.306432   \n",
       "3  1 in 337 prisoners                     813         0.148901   \n",
       "4  1 in 518 prisoners                   17002         0.267870   \n",
       "\n",
       "  staff_case_rate  cumulative_staff_deaths  staff_deaths_pct staff_death_rate  \n",
       "0    1 in 4 staff                        3          0.000791  1 in 1264 staff  \n",
       "1    1 in 4 staff                        0          0.000000                0  \n",
       "2    1 in 3 staff                        1          0.000110  1 in 9095 staff  \n",
       "3    1 in 7 staff                        4          0.000733  1 in 1365 staff  \n",
       "4    1 in 4 staff                       28          0.000441  1 in 2267 staff  "
      ]
     },
     "execution_count": 1037,
     "metadata": {},
     "output_type": "execute_result"
    }
   ],
   "source": [
    "#Checking the dataset layout\n",
    "rates.head()"
   ]
  },
  {
   "cell_type": "code",
   "execution_count": 1038,
   "metadata": {},
   "outputs": [
    {
     "data": {
      "text/plain": [
       "(52, 14)"
      ]
     },
     "execution_count": 1038,
     "metadata": {},
     "output_type": "execute_result"
    }
   ],
   "source": [
    "#The number of rows and columns\n",
    "rates.shape"
   ]
  },
  {
   "cell_type": "code",
   "execution_count": 1039,
   "metadata": {},
   "outputs": [
    {
     "data": {
      "text/html": [
       "<div>\n",
       "<style scoped>\n",
       "    .dataframe tbody tr th:only-of-type {\n",
       "        vertical-align: middle;\n",
       "    }\n",
       "\n",
       "    .dataframe tbody tr th {\n",
       "        vertical-align: top;\n",
       "    }\n",
       "\n",
       "    .dataframe thead th {\n",
       "        text-align: right;\n",
       "    }\n",
       "</style>\n",
       "<table border=\"1\" class=\"dataframe\">\n",
       "  <thead>\n",
       "    <tr style=\"text-align: right;\">\n",
       "      <th></th>\n",
       "      <th>abbreviation</th>\n",
       "      <th>region</th>\n",
       "    </tr>\n",
       "    <tr>\n",
       "      <th>name</th>\n",
       "      <th></th>\n",
       "      <th></th>\n",
       "    </tr>\n",
       "  </thead>\n",
       "  <tbody>\n",
       "    <tr>\n",
       "      <th>Alabama</th>\n",
       "      <td>AL</td>\n",
       "      <td>2</td>\n",
       "    </tr>\n",
       "    <tr>\n",
       "      <th>Alaska</th>\n",
       "      <td>AK</td>\n",
       "      <td>4</td>\n",
       "    </tr>\n",
       "    <tr>\n",
       "      <th>Arizona</th>\n",
       "      <td>AZ</td>\n",
       "      <td>4</td>\n",
       "    </tr>\n",
       "    <tr>\n",
       "      <th>Arkansas</th>\n",
       "      <td>AR</td>\n",
       "      <td>2</td>\n",
       "    </tr>\n",
       "    <tr>\n",
       "      <th>California</th>\n",
       "      <td>CA</td>\n",
       "      <td>4</td>\n",
       "    </tr>\n",
       "  </tbody>\n",
       "</table>\n",
       "</div>"
      ],
      "text/plain": [
       "           abbreviation region\n",
       "name                          \n",
       "Alabama              AL      2\n",
       "Alaska               AK      4\n",
       "Arizona              AZ      4\n",
       "Arkansas             AR      2\n",
       "California           CA      4"
      ]
     },
     "execution_count": 1039,
     "metadata": {},
     "output_type": "execute_result"
    }
   ],
   "source": [
    "#creating a dataset to merge the 'abbreviation' and 'region' columns for analysis\n",
    "a = cases['abbreviation'].unique()\n",
    "b = cases['name'].unique()\n",
    "c = model_cases['region']\n",
    "for_merge = pd.DataFrame(np.array(list(zip(a,b,c))), columns = ['abbreviation','name','region']).set_index('name')\n",
    "for_merge.head()"
   ]
  },
  {
   "cell_type": "code",
   "execution_count": 1040,
   "metadata": {},
   "outputs": [],
   "source": [
    "#Adding an 'abreviation' and 'region' column to the rates dataset\n",
    "rates = rates.merge(for_merge, right_on = 'name' , left_on = 'name')"
   ]
  },
  {
   "cell_type": "code",
   "execution_count": 1044,
   "metadata": {},
   "outputs": [],
   "source": [
    "#Narrowing the dataset\n",
    "model_rates = rates.drop(['prisoner_case_rate','prisoner_death_rate','staff_case_rate','staff_death_rate'], axis = 1)"
   ]
  },
  {
   "cell_type": "code",
   "execution_count": 1053,
   "metadata": {
    "scrolled": false
   },
   "outputs": [],
   "source": [
    "model_rates = model_rates.set_index('name')"
   ]
  },
  {
   "cell_type": "code",
   "execution_count": 1050,
   "metadata": {
    "scrolled": false
   },
   "outputs": [
    {
     "data": {
      "text/plain": [
       "(51, 12)"
      ]
     },
     "execution_count": 1050,
     "metadata": {},
     "output_type": "execute_result"
    }
   ],
   "source": [
    "model_rates.shape"
   ]
  },
  {
   "cell_type": "markdown",
   "metadata": {},
   "source": [
    "Columns for state abbreviation and region number were added to the rates dataset and then the dataset was narrowed by dropping out rows that contained rates. The final dataset contained only percentatages and cummulative values along with the abbreviation and region columns. "
   ]
  },
  {
   "cell_type": "code",
   "execution_count": 1051,
   "metadata": {},
   "outputs": [
    {
     "data": {
      "text/plain": [
       "1"
      ]
     },
     "execution_count": 1051,
     "metadata": {},
     "output_type": "execute_result"
    }
   ],
   "source": [
    "#Determining if the data is measured with time series \n",
    "rates['latest_week'].nunique()"
   ]
  },
  {
   "cell_type": "code",
   "execution_count": 1054,
   "metadata": {
    "scrolled": false
   },
   "outputs": [
    {
     "data": {
      "image/png": "[encoded data removed]",
      "text/plain": [
       "<Figure size 720x576 with 1 Axes>"
      ]
     },
     "metadata": {
      "needs_background": "light"
     },
     "output_type": "display_data"
    }
   ],
   "source": [
    "#Percentage of prisners that caught COVID-19 by state\n",
    "plt.figure(figsize = (10,8))\n",
    "plt.title('Percentage of inmate cases by state')\n",
    "pc_by_state = model_rates['prisoner_cases_pct'].sort_values(ascending = False).plot(kind = 'bar')"
   ]
  },
  {
   "cell_type": "code",
   "execution_count": 1055,
   "metadata": {
    "scrolled": false
   },
   "outputs": [
    {
     "data": {
      "text/plain": [
       "<AxesSubplot:title={'center':'Percentage of staff cases by state'}, xlabel='name'>"
      ]
     },
     "execution_count": 1055,
     "metadata": {},
     "output_type": "execute_result"
    },
    {
     "data": {
      "image/png": "[encoded data removed]",
      "text/plain": [
       "<Figure size 720x576 with 1 Axes>"
      ]
     },
     "metadata": {
      "needs_background": "light"
     },
     "output_type": "display_data"
    }
   ],
   "source": [
    "#Percentage of prison staff that caught COVID-19 by state\n",
    "plt.figure(figsize = (10,8))\n",
    "plt.title('Percentage of staff cases by state')\n",
    "model_rates['staff_cases_pct'].sort_values(ascending = False).plot(kind = 'bar')"
   ]
  },
  {
   "cell_type": "code",
   "execution_count": 1174,
   "metadata": {},
   "outputs": [
    {
     "data": {
      "text/plain": [
       "<AxesSubplot:xlabel='name'>"
      ]
     },
     "execution_count": 1174,
     "metadata": {},
     "output_type": "execute_result"
    },
    {
     "data": {
      "image/png": "[encoded data removed]",
      "text/plain": [
       "<Figure size 432x288 with 1 Axes>"
      ]
     },
     "metadata": {
      "needs_background": "light"
     },
     "output_type": "display_data"
    }
   ],
   "source": [
    "#Plotting percent of prisoner cases for the NorthEast\n",
    "model_rates.loc[model_rates['region']== 1]['prisoner_cases_pct'].plot(kind ='bar')"
   ]
  },
  {
   "cell_type": "code",
   "execution_count": 1173,
   "metadata": {
    "scrolled": true
   },
   "outputs": [
    {
     "data": {
      "text/plain": [
       "<AxesSubplot:xlabel='name'>"
      ]
     },
     "execution_count": 1173,
     "metadata": {},
     "output_type": "execute_result"
    },
    {
     "data": {
      "image/png": "[encoded data removed]",
      "text/plain": [
       "<Figure size 432x288 with 1 Axes>"
      ]
     },
     "metadata": {
      "needs_background": "light"
     },
     "output_type": "display_data"
    }
   ],
   "source": [
    "#Plotting percent of prisoner cases for the SOUTH\n",
    "model_rates.loc[model_rates['region']== 2]['prisoner_cases_pct'].plot(kind ='bar')"
   ]
  },
  {
   "cell_type": "code",
   "execution_count": 1175,
   "metadata": {
    "scrolled": true
   },
   "outputs": [
    {
     "data": {
      "text/plain": [
       "<AxesSubplot:xlabel='name'>"
      ]
     },
     "execution_count": 1175,
     "metadata": {},
     "output_type": "execute_result"
    },
    {
     "data": {
      "image/png": "[encoded data removed]",
      "text/plain": [
       "<Figure size 432x288 with 1 Axes>"
      ]
     },
     "metadata": {
      "needs_background": "light"
     },
     "output_type": "display_data"
    }
   ],
   "source": [
    "#Plotting percent of prisoner cases for the Midwest\n",
    "model_rates.loc[model_rates['region']== 3]['prisoner_cases_pct'].plot(kind ='bar')"
   ]
  },
  {
   "cell_type": "code",
   "execution_count": 1176,
   "metadata": {},
   "outputs": [
    {
     "data": {
      "text/plain": [
       "<AxesSubplot:xlabel='name'>"
      ]
     },
     "execution_count": 1176,
     "metadata": {},
     "output_type": "execute_result"
    },
    {
     "data": {
      "image/png": "[encoded data removed]",
      "text/plain": [
       "<Figure size 432x288 with 1 Axes>"
      ]
     },
     "metadata": {
      "needs_background": "light"
     },
     "output_type": "display_data"
    }
   ],
   "source": [
    "#Plotting percent of prisoner cases for the West\n",
    "model_rates.loc[model_rates['region']== 4]['prisoner_cases_pct'].plot(kind ='bar')"
   ]
  },
  {
   "cell_type": "markdown",
   "metadata": {},
   "source": [
    "The bar plots of percentage of covid cases among prisoners and the percentage of covid cases among incarceration facility staff show no obvious trends. Different states have higher and lower percentages and there is no apparent separation of state percentages based on region."
   ]
  },
  {
   "cell_type": "markdown",
   "metadata": {},
   "source": [
    "---\n",
    "## Inmate_pops dataset\n",
    "---\n"
   ]
  },
  {
   "cell_type": "code",
   "execution_count": 1056,
   "metadata": {
    "scrolled": true
   },
   "outputs": [
    {
     "data": {
      "text/plain": [
       "array(['AL', 'AK', 'AZ', 'AR', 'CA', 'CO', 'CT', 'DE', 'US', 'FL', 'GA',\n",
       "       'HI', 'ID', 'IL', 'IN', 'IA', 'KS', 'KY', 'LA', 'ME', 'MD', 'MA',\n",
       "       'MI', 'MN', 'MS', 'MO', 'MT', 'NE', 'NV', 'NH', 'NJ', 'NM', 'NY',\n",
       "       'NC', 'ND', 'OH', 'OK', 'OR', 'PA', 'RI', 'SC', 'SD', 'TN', 'TX',\n",
       "       'UT', 'VT', 'VA', 'WA', 'WV', 'WI', 'WY'], dtype=object)"
      ]
     },
     "execution_count": 1056,
     "metadata": {},
     "output_type": "execute_result"
    }
   ],
   "source": [
    "# create a list of state abbrevitations\n",
    "states = inmate_pops['abbreviation'].unique()\n",
    "states"
   ]
  },
  {
   "cell_type": "code",
   "execution_count": 1057,
   "metadata": {
    "scrolled": true
   },
   "outputs": [
    {
     "data": {
      "text/html": [
       "<div>\n",
       "<style scoped>\n",
       "    .dataframe tbody tr th:only-of-type {\n",
       "        vertical-align: middle;\n",
       "    }\n",
       "\n",
       "    .dataframe tbody tr th {\n",
       "        vertical-align: top;\n",
       "    }\n",
       "\n",
       "    .dataframe thead th {\n",
       "        text-align: right;\n",
       "    }\n",
       "</style>\n",
       "<table border=\"1\" class=\"dataframe\">\n",
       "  <thead>\n",
       "    <tr style=\"text-align: right;\">\n",
       "      <th></th>\n",
       "      <th>name</th>\n",
       "      <th>abbreviation</th>\n",
       "      <th>month</th>\n",
       "      <th>as_of_date</th>\n",
       "      <th>pop</th>\n",
       "    </tr>\n",
       "  </thead>\n",
       "  <tbody>\n",
       "    <tr>\n",
       "      <th>0</th>\n",
       "      <td>Alabama</td>\n",
       "      <td>AL</td>\n",
       "      <td>march</td>\n",
       "      <td>03/31/2020</td>\n",
       "      <td>21114</td>\n",
       "    </tr>\n",
       "    <tr>\n",
       "      <th>1</th>\n",
       "      <td>Alabama</td>\n",
       "      <td>AL</td>\n",
       "      <td>april</td>\n",
       "      <td>04/30/2020</td>\n",
       "      <td>20655</td>\n",
       "    </tr>\n",
       "    <tr>\n",
       "      <th>2</th>\n",
       "      <td>Alabama</td>\n",
       "      <td>AL</td>\n",
       "      <td>june</td>\n",
       "      <td>06/30/2020</td>\n",
       "      <td>19752</td>\n",
       "    </tr>\n",
       "    <tr>\n",
       "      <th>3</th>\n",
       "      <td>Alabama</td>\n",
       "      <td>AL</td>\n",
       "      <td>july</td>\n",
       "      <td>07/31/2020</td>\n",
       "      <td>19342</td>\n",
       "    </tr>\n",
       "    <tr>\n",
       "      <th>4</th>\n",
       "      <td>Alabama</td>\n",
       "      <td>AL</td>\n",
       "      <td>aug</td>\n",
       "      <td>08/31/2020</td>\n",
       "      <td>18901</td>\n",
       "    </tr>\n",
       "  </tbody>\n",
       "</table>\n",
       "</div>"
      ],
      "text/plain": [
       "      name abbreviation  month  as_of_date    pop\n",
       "0  Alabama           AL  march  03/31/2020  21114\n",
       "1  Alabama           AL  april  04/30/2020  20655\n",
       "2  Alabama           AL   june  06/30/2020  19752\n",
       "3  Alabama           AL   july  07/31/2020  19342\n",
       "4  Alabama           AL    aug  08/31/2020  18901"
      ]
     },
     "execution_count": 1057,
     "metadata": {},
     "output_type": "execute_result"
    }
   ],
   "source": [
    "inmate_pops.head()"
   ]
  },
  {
   "cell_type": "code",
   "execution_count": 1058,
   "metadata": {
    "scrolled": true
   },
   "outputs": [
    {
     "data": {
      "text/html": [
       "<div>\n",
       "<style scoped>\n",
       "    .dataframe tbody tr th:only-of-type {\n",
       "        vertical-align: middle;\n",
       "    }\n",
       "\n",
       "    .dataframe tbody tr th {\n",
       "        vertical-align: top;\n",
       "    }\n",
       "\n",
       "    .dataframe thead th {\n",
       "        text-align: right;\n",
       "    }\n",
       "</style>\n",
       "<table border=\"1\" class=\"dataframe\">\n",
       "  <thead>\n",
       "    <tr style=\"text-align: right;\">\n",
       "      <th></th>\n",
       "      <th>abbreviation</th>\n",
       "      <th>pop</th>\n",
       "    </tr>\n",
       "    <tr>\n",
       "      <th>name</th>\n",
       "      <th></th>\n",
       "      <th></th>\n",
       "    </tr>\n",
       "  </thead>\n",
       "  <tbody>\n",
       "    <tr>\n",
       "      <th>Alabama</th>\n",
       "      <td>AL</td>\n",
       "      <td>21114</td>\n",
       "    </tr>\n",
       "    <tr>\n",
       "      <th>Alabama</th>\n",
       "      <td>AL</td>\n",
       "      <td>20655</td>\n",
       "    </tr>\n",
       "    <tr>\n",
       "      <th>Alabama</th>\n",
       "      <td>AL</td>\n",
       "      <td>19752</td>\n",
       "    </tr>\n",
       "    <tr>\n",
       "      <th>Alabama</th>\n",
       "      <td>AL</td>\n",
       "      <td>19342</td>\n",
       "    </tr>\n",
       "    <tr>\n",
       "      <th>Alabama</th>\n",
       "      <td>AL</td>\n",
       "      <td>18901</td>\n",
       "    </tr>\n",
       "  </tbody>\n",
       "</table>\n",
       "</div>"
      ],
      "text/plain": [
       "        abbreviation    pop\n",
       "name                       \n",
       "Alabama           AL  21114\n",
       "Alabama           AL  20655\n",
       "Alabama           AL  19752\n",
       "Alabama           AL  19342\n",
       "Alabama           AL  18901"
      ]
     },
     "execution_count": 1058,
     "metadata": {},
     "output_type": "execute_result"
    }
   ],
   "source": [
    "#Dropping the 'as_of_date' and 'month' columns as well as setting the index to the 'name' column\n",
    "model_inmate_pops = inmate_pops.drop(['as_of_date','month'], axis = 1).set_index('name')\n",
    "model_inmate_pops.head()"
   ]
  },
  {
   "cell_type": "code",
   "execution_count": 1059,
   "metadata": {
    "scrolled": true
   },
   "outputs": [
    {
     "data": {
      "text/html": [
       "<div>\n",
       "<style scoped>\n",
       "    .dataframe tbody tr th:only-of-type {\n",
       "        vertical-align: middle;\n",
       "    }\n",
       "\n",
       "    .dataframe tbody tr th {\n",
       "        vertical-align: top;\n",
       "    }\n",
       "\n",
       "    .dataframe thead th {\n",
       "        text-align: right;\n",
       "    }\n",
       "</style>\n",
       "<table border=\"1\" class=\"dataframe\">\n",
       "  <thead>\n",
       "    <tr style=\"text-align: right;\">\n",
       "      <th></th>\n",
       "      <th>name</th>\n",
       "      <th>abbreviation</th>\n",
       "      <th>month</th>\n",
       "      <th>as_of_date</th>\n",
       "      <th>pop</th>\n",
       "    </tr>\n",
       "  </thead>\n",
       "  <tbody>\n",
       "    <tr>\n",
       "      <th>0</th>\n",
       "      <td>Alabama</td>\n",
       "      <td>AL</td>\n",
       "      <td>march</td>\n",
       "      <td>03/31/2020</td>\n",
       "      <td>3686.0</td>\n",
       "    </tr>\n",
       "    <tr>\n",
       "      <th>1</th>\n",
       "      <td>Alabama</td>\n",
       "      <td>AL</td>\n",
       "      <td>july</td>\n",
       "      <td>06/30/2020</td>\n",
       "      <td>3792.0</td>\n",
       "    </tr>\n",
       "    <tr>\n",
       "      <th>2</th>\n",
       "      <td>Alaska</td>\n",
       "      <td>AK</td>\n",
       "      <td>march</td>\n",
       "      <td>03/31/2020</td>\n",
       "      <td>1456.0</td>\n",
       "    </tr>\n",
       "    <tr>\n",
       "      <th>3</th>\n",
       "      <td>Alaska</td>\n",
       "      <td>AK</td>\n",
       "      <td>july</td>\n",
       "      <td>07/31/2020</td>\n",
       "      <td>1481.0</td>\n",
       "    </tr>\n",
       "    <tr>\n",
       "      <th>4</th>\n",
       "      <td>Arizona</td>\n",
       "      <td>AZ</td>\n",
       "      <td>july</td>\n",
       "      <td>08/01/2020</td>\n",
       "      <td>9095.0</td>\n",
       "    </tr>\n",
       "  </tbody>\n",
       "</table>\n",
       "</div>"
      ],
      "text/plain": [
       "      name abbreviation  month  as_of_date     pop\n",
       "0  Alabama           AL  march  03/31/2020  3686.0\n",
       "1  Alabama           AL   july  06/30/2020  3792.0\n",
       "2   Alaska           AK  march  03/31/2020  1456.0\n",
       "3   Alaska           AK   july  07/31/2020  1481.0\n",
       "4  Arizona           AZ   july  08/01/2020  9095.0"
      ]
     },
     "execution_count": 1059,
     "metadata": {},
     "output_type": "execute_result"
    }
   ],
   "source": [
    "staff_pops.head()"
   ]
  },
  {
   "cell_type": "code",
   "execution_count": 1060,
   "metadata": {
    "scrolled": true
   },
   "outputs": [
    {
     "data": {
      "text/html": [
       "<div>\n",
       "<style scoped>\n",
       "    .dataframe tbody tr th:only-of-type {\n",
       "        vertical-align: middle;\n",
       "    }\n",
       "\n",
       "    .dataframe tbody tr th {\n",
       "        vertical-align: top;\n",
       "    }\n",
       "\n",
       "    .dataframe thead th {\n",
       "        text-align: right;\n",
       "    }\n",
       "</style>\n",
       "<table border=\"1\" class=\"dataframe\">\n",
       "  <thead>\n",
       "    <tr style=\"text-align: right;\">\n",
       "      <th></th>\n",
       "      <th>abbreviation</th>\n",
       "      <th>pop</th>\n",
       "    </tr>\n",
       "    <tr>\n",
       "      <th>name</th>\n",
       "      <th></th>\n",
       "      <th></th>\n",
       "    </tr>\n",
       "  </thead>\n",
       "  <tbody>\n",
       "    <tr>\n",
       "      <th>Alabama</th>\n",
       "      <td>AL</td>\n",
       "      <td>3686.0</td>\n",
       "    </tr>\n",
       "    <tr>\n",
       "      <th>Alabama</th>\n",
       "      <td>AL</td>\n",
       "      <td>3792.0</td>\n",
       "    </tr>\n",
       "    <tr>\n",
       "      <th>Alaska</th>\n",
       "      <td>AK</td>\n",
       "      <td>1456.0</td>\n",
       "    </tr>\n",
       "    <tr>\n",
       "      <th>Alaska</th>\n",
       "      <td>AK</td>\n",
       "      <td>1481.0</td>\n",
       "    </tr>\n",
       "    <tr>\n",
       "      <th>Arizona</th>\n",
       "      <td>AZ</td>\n",
       "      <td>9095.0</td>\n",
       "    </tr>\n",
       "  </tbody>\n",
       "</table>\n",
       "</div>"
      ],
      "text/plain": [
       "        abbreviation     pop\n",
       "name                        \n",
       "Alabama           AL  3686.0\n",
       "Alabama           AL  3792.0\n",
       "Alaska            AK  1456.0\n",
       "Alaska            AK  1481.0\n",
       "Arizona           AZ  9095.0"
      ]
     },
     "execution_count": 1060,
     "metadata": {},
     "output_type": "execute_result"
    }
   ],
   "source": [
    "model_staff_pops = staff_pops.drop(['as_of_date','month'], axis = 1).set_index('name')\n",
    "model_staff_pops.head()"
   ]
  },
  {
   "cell_type": "code",
   "execution_count": 1061,
   "metadata": {
    "scrolled": false
   },
   "outputs": [],
   "source": [
    "#creating a list of only the maximum inmate population per state\n",
    "max_inmates = []\n",
    "for i in states:\n",
    " max_inmates.append(inmate_pops.loc[inmate_pops['abbreviation'] == i]['pop'].max())"
   ]
  },
  {
   "cell_type": "code",
   "execution_count": 1062,
   "metadata": {},
   "outputs": [],
   "source": [
    "#creating a list of only the maximum staff population per state\n",
    "max_staff = []\n",
    "for i in states:\n",
    "    max_staff.append(staff_pops.loc[staff_pops['abbreviation'] == i]['pop'].max())"
   ]
  },
  {
   "cell_type": "code",
   "execution_count": 1063,
   "metadata": {
    "scrolled": false
   },
   "outputs": [
    {
     "data": {
      "text/html": [
       "<div>\n",
       "<style scoped>\n",
       "    .dataframe tbody tr th:only-of-type {\n",
       "        vertical-align: middle;\n",
       "    }\n",
       "\n",
       "    .dataframe tbody tr th {\n",
       "        vertical-align: top;\n",
       "    }\n",
       "\n",
       "    .dataframe thead th {\n",
       "        text-align: right;\n",
       "    }\n",
       "</style>\n",
       "<table border=\"1\" class=\"dataframe\">\n",
       "  <thead>\n",
       "    <tr style=\"text-align: right;\">\n",
       "      <th></th>\n",
       "      <th>name</th>\n",
       "      <th>max_inmate_pop</th>\n",
       "      <th>max_staff_pop</th>\n",
       "    </tr>\n",
       "  </thead>\n",
       "  <tbody>\n",
       "    <tr>\n",
       "      <th>0</th>\n",
       "      <td>Alabama</td>\n",
       "      <td>21114</td>\n",
       "      <td>3792.0</td>\n",
       "    </tr>\n",
       "    <tr>\n",
       "      <th>1</th>\n",
       "      <td>Alaska</td>\n",
       "      <td>4776</td>\n",
       "      <td>1481.0</td>\n",
       "    </tr>\n",
       "    <tr>\n",
       "      <th>2</th>\n",
       "      <td>Arizona</td>\n",
       "      <td>42360</td>\n",
       "      <td>9095.0</td>\n",
       "    </tr>\n",
       "    <tr>\n",
       "      <th>3</th>\n",
       "      <td>Arkansas</td>\n",
       "      <td>17502</td>\n",
       "      <td>5460.0</td>\n",
       "    </tr>\n",
       "    <tr>\n",
       "      <th>4</th>\n",
       "      <td>California</td>\n",
       "      <td>117639</td>\n",
       "      <td>63471.0</td>\n",
       "    </tr>\n",
       "  </tbody>\n",
       "</table>\n",
       "</div>"
      ],
      "text/plain": [
       "         name max_inmate_pop max_staff_pop\n",
       "0     Alabama          21114        3792.0\n",
       "1      Alaska           4776        1481.0\n",
       "2     Arizona          42360        9095.0\n",
       "3    Arkansas          17502        5460.0\n",
       "4  California         117639       63471.0"
      ]
     },
     "execution_count": 1063,
     "metadata": {},
     "output_type": "execute_result"
    }
   ],
   "source": [
    "e = cases['name'].unique()\n",
    "f = max_inmates\n",
    "g = max_staff\n",
    "pop_merge = pd.DataFrame(np.array(list(zip(e,f,g))), columns = ['name','max_inmate_pop', 'max_staff_pop'])#.set_index('name')\n",
    "pop_merge.head()"
   ]
  },
  {
   "cell_type": "code",
   "execution_count": 1064,
   "metadata": {},
   "outputs": [],
   "source": [
    "#Adding a column for maximum inmate population and a column for maximum staff population\n",
    "#model_rates = model_rates.merge(pop_merge, right_on = 'name' , left_on = 'name')"
   ]
  },
  {
   "cell_type": "code",
   "execution_count": 1166,
   "metadata": {
    "scrolled": true
   },
   "outputs": [
    {
     "data": {
      "text/html": [
       "<div>\n",
       "<style scoped>\n",
       "    .dataframe tbody tr th:only-of-type {\n",
       "        vertical-align: middle;\n",
       "    }\n",
       "\n",
       "    .dataframe tbody tr th {\n",
       "        vertical-align: top;\n",
       "    }\n",
       "\n",
       "    .dataframe thead th {\n",
       "        text-align: right;\n",
       "    }\n",
       "</style>\n",
       "<table border=\"1\" class=\"dataframe\">\n",
       "  <thead>\n",
       "    <tr style=\"text-align: right;\">\n",
       "      <th></th>\n",
       "      <th>cumulative_prisoner_cases</th>\n",
       "      <th>prisoner_cases_pct</th>\n",
       "      <th>cumulative_prisoner_deaths</th>\n",
       "      <th>prisoner_deaths_pct</th>\n",
       "      <th>cumulative_staff_cases</th>\n",
       "      <th>staff_cases_pct</th>\n",
       "      <th>cumulative_staff_deaths</th>\n",
       "      <th>staff_deaths_pct</th>\n",
       "      <th>region</th>\n",
       "      <th>max_inmate_pop</th>\n",
       "      <th>max_staff_pop</th>\n",
       "      <th>prisoner_deaths_per_case</th>\n",
       "      <th>staff_deaths_per_case</th>\n",
       "      <th>clusters</th>\n",
       "      <th>color</th>\n",
       "    </tr>\n",
       "    <tr>\n",
       "      <th>name</th>\n",
       "      <th></th>\n",
       "      <th></th>\n",
       "      <th></th>\n",
       "      <th></th>\n",
       "      <th></th>\n",
       "      <th></th>\n",
       "      <th></th>\n",
       "      <th></th>\n",
       "      <th></th>\n",
       "      <th></th>\n",
       "      <th></th>\n",
       "      <th></th>\n",
       "      <th></th>\n",
       "      <th></th>\n",
       "      <th></th>\n",
       "    </tr>\n",
       "  </thead>\n",
       "  <tbody>\n",
       "    <tr>\n",
       "      <th>Alabama</th>\n",
       "      <td>1661</td>\n",
       "      <td>0.078668</td>\n",
       "      <td>66</td>\n",
       "      <td>0.003126</td>\n",
       "      <td>1056</td>\n",
       "      <td>0.278481</td>\n",
       "      <td>3</td>\n",
       "      <td>0.000791</td>\n",
       "      <td>2.0</td>\n",
       "      <td>21114.0</td>\n",
       "      <td>3792.0</td>\n",
       "      <td>0.039735</td>\n",
       "      <td>0.002841</td>\n",
       "      <td>0</td>\n",
       "      <td>red</td>\n",
       "    </tr>\n",
       "    <tr>\n",
       "      <th>Alaska</th>\n",
       "      <td>2440</td>\n",
       "      <td>0.510888</td>\n",
       "      <td>5</td>\n",
       "      <td>0.001047</td>\n",
       "      <td>332</td>\n",
       "      <td>0.224173</td>\n",
       "      <td>0</td>\n",
       "      <td>0.000000</td>\n",
       "      <td>4.0</td>\n",
       "      <td>4776.0</td>\n",
       "      <td>1481.0</td>\n",
       "      <td>0.002049</td>\n",
       "      <td>0.000000</td>\n",
       "      <td>0</td>\n",
       "      <td>red</td>\n",
       "    </tr>\n",
       "    <tr>\n",
       "      <th>Arizona</th>\n",
       "      <td>12328</td>\n",
       "      <td>0.291029</td>\n",
       "      <td>65</td>\n",
       "      <td>0.001534</td>\n",
       "      <td>2787</td>\n",
       "      <td>0.306432</td>\n",
       "      <td>1</td>\n",
       "      <td>0.000110</td>\n",
       "      <td>4.0</td>\n",
       "      <td>42360.0</td>\n",
       "      <td>9095.0</td>\n",
       "      <td>0.005273</td>\n",
       "      <td>0.000359</td>\n",
       "      <td>0</td>\n",
       "      <td>red</td>\n",
       "    </tr>\n",
       "    <tr>\n",
       "      <th>Arkansas</th>\n",
       "      <td>11425</td>\n",
       "      <td>0.652783</td>\n",
       "      <td>52</td>\n",
       "      <td>0.002971</td>\n",
       "      <td>813</td>\n",
       "      <td>0.148901</td>\n",
       "      <td>4</td>\n",
       "      <td>0.000733</td>\n",
       "      <td>2.0</td>\n",
       "      <td>17502.0</td>\n",
       "      <td>5460.0</td>\n",
       "      <td>0.004551</td>\n",
       "      <td>0.004920</td>\n",
       "      <td>0</td>\n",
       "      <td>red</td>\n",
       "    </tr>\n",
       "    <tr>\n",
       "      <th>California</th>\n",
       "      <td>49395</td>\n",
       "      <td>0.419886</td>\n",
       "      <td>227</td>\n",
       "      <td>0.001930</td>\n",
       "      <td>17002</td>\n",
       "      <td>0.267870</td>\n",
       "      <td>28</td>\n",
       "      <td>0.000441</td>\n",
       "      <td>4.0</td>\n",
       "      <td>117639.0</td>\n",
       "      <td>63471.0</td>\n",
       "      <td>0.004596</td>\n",
       "      <td>0.001647</td>\n",
       "      <td>1</td>\n",
       "      <td>green</td>\n",
       "    </tr>\n",
       "  </tbody>\n",
       "</table>\n",
       "</div>"
      ],
      "text/plain": [
       "            cumulative_prisoner_cases  prisoner_cases_pct  \\\n",
       "name                                                        \n",
       "Alabama                          1661            0.078668   \n",
       "Alaska                           2440            0.510888   \n",
       "Arizona                         12328            0.291029   \n",
       "Arkansas                        11425            0.652783   \n",
       "California                      49395            0.419886   \n",
       "\n",
       "            cumulative_prisoner_deaths  prisoner_deaths_pct  \\\n",
       "name                                                          \n",
       "Alabama                             66             0.003126   \n",
       "Alaska                               5             0.001047   \n",
       "Arizona                             65             0.001534   \n",
       "Arkansas                            52             0.002971   \n",
       "California                         227             0.001930   \n",
       "\n",
       "            cumulative_staff_cases  staff_cases_pct  cumulative_staff_deaths  \\\n",
       "name                                                                           \n",
       "Alabama                       1056         0.278481                        3   \n",
       "Alaska                         332         0.224173                        0   \n",
       "Arizona                       2787         0.306432                        1   \n",
       "Arkansas                       813         0.148901                        4   \n",
       "California                   17002         0.267870                       28   \n",
       "\n",
       "            staff_deaths_pct  region  max_inmate_pop  max_staff_pop  \\\n",
       "name                                                                  \n",
       "Alabama             0.000791     2.0         21114.0         3792.0   \n",
       "Alaska              0.000000     4.0          4776.0         1481.0   \n",
       "Arizona             0.000110     4.0         42360.0         9095.0   \n",
       "Arkansas            0.000733     2.0         17502.0         5460.0   \n",
       "California          0.000441     4.0        117639.0        63471.0   \n",
       "\n",
       "            prisoner_deaths_per_case  staff_deaths_per_case  clusters  color  \n",
       "name                                                                          \n",
       "Alabama                     0.039735               0.002841         0    red  \n",
       "Alaska                      0.002049               0.000000         0    red  \n",
       "Arizona                     0.005273               0.000359         0    red  \n",
       "Arkansas                    0.004551               0.004920         0    red  \n",
       "California                  0.004596               0.001647         1  green  "
      ]
     },
     "execution_count": 1166,
     "metadata": {},
     "output_type": "execute_result"
    }
   ],
   "source": [
    "model_rates.head()"
   ]
  },
  {
   "cell_type": "code",
   "execution_count": 1167,
   "metadata": {},
   "outputs": [
    {
     "data": {
      "text/plain": [
       "<AxesSubplot:title={'center':'Maximum Inmate Population by State'}, xlabel='name'>"
      ]
     },
     "execution_count": 1167,
     "metadata": {},
     "output_type": "execute_result"
    },
    {
     "data": {
      "image/png": "[encoded data removed]",
      "text/plain": [
       "<Figure size 720x720 with 1 Axes>"
      ]
     },
     "metadata": {
      "needs_background": "light"
     },
     "output_type": "display_data"
    }
   ],
   "source": [
    "plt.figure(figsize = (10,10))\n",
    "plt.title('Maximum Inmate Population by State')\n",
    "model_rates['max_inmate_pop'].sort_values(ascending = False).plot(kind = 'bar')"
   ]
  },
  {
   "cell_type": "code",
   "execution_count": 1168,
   "metadata": {},
   "outputs": [
    {
     "data": {
      "text/plain": [
       "<AxesSubplot:title={'center':'Maximum Staff Population by State'}, xlabel='name'>"
      ]
     },
     "execution_count": 1168,
     "metadata": {},
     "output_type": "execute_result"
    },
    {
     "data": {
      "image/png": "[encoded data removed]",
      "text/plain": [
       "<Figure size 720x720 with 1 Axes>"
      ]
     },
     "metadata": {
      "needs_background": "light"
     },
     "output_type": "display_data"
    }
   ],
   "source": [
    "plt.figure(figsize = (10,10))\n",
    "plt.title('Maximum Staff Population by State')\n",
    "model_rates['max_staff_pop'].sort_values(ascending = False).plot(kind = 'bar')"
   ]
  },
  {
   "cell_type": "markdown",
   "metadata": {},
   "source": [
    "Similar to the plot of case percentages, the bar plots of maximum population of prison inmates per state also shows no obvious trends and interestingly it does not correspond to the percentages. This means that the data shows that prisons with higher populations did not necesarily have higher rates of covid cases."
   ]
  },
  {
   "cell_type": "code",
   "execution_count": 1065,
   "metadata": {},
   "outputs": [],
   "source": [
    "#Dropping the 'abbreviation' column\n",
    "model_rates = model_rates.drop('abbreviation', axis = 1)"
   ]
  },
  {
   "cell_type": "code",
   "execution_count": 1066,
   "metadata": {
    "scrolled": false
   },
   "outputs": [
    {
     "data": {
      "text/plain": [
       "name                           object\n",
       "latest_week                    object\n",
       "cumulative_prisoner_cases       int64\n",
       "prisoner_cases_pct            float64\n",
       "cumulative_prisoner_deaths      int64\n",
       "prisoner_deaths_pct           float64\n",
       "cumulative_staff_cases          int64\n",
       "staff_cases_pct               float64\n",
       "cumulative_staff_deaths         int64\n",
       "staff_deaths_pct              float64\n",
       "region                         object\n",
       "max_inmate_pop                 object\n",
       "max_staff_pop                  object\n",
       "dtype: object"
      ]
     },
     "execution_count": 1066,
     "metadata": {},
     "output_type": "execute_result"
    }
   ],
   "source": [
    "#Setting the index of the dataset to 'name' and checking for datatypes to prepare for model\n",
    "model_rates.set_index('name')\n",
    "model_rates.dtypes"
   ]
  },
  {
   "cell_type": "code",
   "execution_count": 1067,
   "metadata": {},
   "outputs": [],
   "source": [
    "#Changing object datatypes to numerical datatypes\n",
    "model_rates[['region','max_inmate_pop','max_staff_pop']]= model_rates[['region','max_inmate_pop','max_staff_pop']].astype(float)"
   ]
  },
  {
   "cell_type": "code",
   "execution_count": 1068,
   "metadata": {
    "scrolled": true
   },
   "outputs": [
    {
     "name": "stdout",
     "output_type": "stream",
     "text": [
      "0.1969518171635331\n",
      "53.21568627450981\n"
     ]
    }
   ],
   "source": [
    "#Average percentage and number of prisoners who died due to COVID - 19\n",
    "print(model_rates['prisoner_deaths_pct'].mean()*100)\n",
    "print(model_rates['cumulative_prisoner_deaths'].mean())"
   ]
  },
  {
   "cell_type": "code",
   "execution_count": 1069,
   "metadata": {},
   "outputs": [
    {
     "name": "stdout",
     "output_type": "stream",
     "text": [
      "0.04524004399749396\n",
      "4.098039215686274\n"
     ]
    }
   ],
   "source": [
    "#Average percentage and number of prison staff who died due to COVID - 19\n",
    "print(model_rates['staff_deaths_pct'].mean()*100)\n",
    "print(model_rates['cumulative_staff_deaths'].mean())"
   ]
  },
  {
   "cell_type": "markdown",
   "metadata": {},
   "source": [
    "On average .19% of prisoners died, which is approximately 56 prisoners per state. And on average .04% of staff died, which is approximately 4 members of the staff per state. "
   ]
  },
  {
   "cell_type": "code",
   "execution_count": 1070,
   "metadata": {},
   "outputs": [
    {
     "name": "stdout",
     "output_type": "stream",
     "text": [
      "count    51.000000\n",
      "mean      0.341398\n",
      "std       0.163173\n",
      "min       0.070339\n",
      "25%       0.224882\n",
      "50%       0.298726\n",
      "75%       0.462435\n",
      "max       0.699235\n",
      "Name: prisoner_cases_pct, dtype: float64\n",
      "count    46.000000\n",
      "mean      0.259646\n",
      "std       0.080770\n",
      "min       0.055752\n",
      "25%       0.218195\n",
      "50%       0.271914\n",
      "75%       0.305463\n",
      "max       0.419428\n",
      "Name: staff_cases_pct, dtype: float64\n"
     ]
    },
    {
     "data": {
      "text/plain": [
       "<AxesSubplot:>"
      ]
     },
     "execution_count": 1070,
     "metadata": {},
     "output_type": "execute_result"
    },
    {
     "data": {
      "image/png": "[encoded data removed]",
      "text/plain": [
       "<Figure size 432x288 with 1 Axes>"
      ]
     },
     "metadata": {
      "needs_background": "light"
     },
     "output_type": "display_data"
    }
   ],
   "source": [
    "print(model_rates['prisoner_cases_pct'].describe())\n",
    "print(model_rates['staff_cases_pct'].describe())\n",
    "model_rates[['prisoner_cases_pct', 'staff_cases_pct']].plot(kind = 'box')"
   ]
  },
  {
   "cell_type": "code",
   "execution_count": 1071,
   "metadata": {
    "scrolled": false
   },
   "outputs": [
    {
     "data": {
      "image/png": "[encoded data removed]",
      "text/plain": [
       "<Figure size 432x288 with 1 Axes>"
      ]
     },
     "metadata": {
      "needs_background": "light"
     },
     "output_type": "display_data"
    }
   ],
   "source": [
    "model_rates[['prisoner_deaths_pct','staff_deaths_pct']].plot(kind = 'box');"
   ]
  },
  {
   "cell_type": "markdown",
   "metadata": {},
   "source": [
    "These boxplots show the spread of percent of cases and deaths among prisoners and staff per state. Both plots show a very similar trend: Inmates both contracted and died from covid at much higer rates than staff members. "
   ]
  },
  {
   "cell_type": "code",
   "execution_count": 1072,
   "metadata": {
    "scrolled": true
   },
   "outputs": [
    {
     "data": {
      "text/html": [
       "<div>\n",
       "<style scoped>\n",
       "    .dataframe tbody tr th:only-of-type {\n",
       "        vertical-align: middle;\n",
       "    }\n",
       "\n",
       "    .dataframe tbody tr th {\n",
       "        vertical-align: top;\n",
       "    }\n",
       "\n",
       "    .dataframe thead th {\n",
       "        text-align: right;\n",
       "    }\n",
       "</style>\n",
       "<table border=\"1\" class=\"dataframe\">\n",
       "  <thead>\n",
       "    <tr style=\"text-align: right;\">\n",
       "      <th></th>\n",
       "      <th>name</th>\n",
       "      <th>latest_week</th>\n",
       "      <th>cumulative_prisoner_cases</th>\n",
       "      <th>prisoner_cases_pct</th>\n",
       "      <th>cumulative_prisoner_deaths</th>\n",
       "      <th>prisoner_deaths_pct</th>\n",
       "      <th>cumulative_staff_cases</th>\n",
       "      <th>staff_cases_pct</th>\n",
       "      <th>cumulative_staff_deaths</th>\n",
       "      <th>staff_deaths_pct</th>\n",
       "      <th>region</th>\n",
       "      <th>max_inmate_pop</th>\n",
       "      <th>max_staff_pop</th>\n",
       "    </tr>\n",
       "  </thead>\n",
       "  <tbody>\n",
       "    <tr>\n",
       "      <th>28</th>\n",
       "      <td>Nevada</td>\n",
       "      <td>06/22/2021</td>\n",
       "      <td>4576</td>\n",
       "      <td>0.369509</td>\n",
       "      <td>57</td>\n",
       "      <td>0.004603</td>\n",
       "      <td>1006</td>\n",
       "      <td>0.379909</td>\n",
       "      <td>3</td>\n",
       "      <td>0.001133</td>\n",
       "      <td>4.0</td>\n",
       "      <td>5621.0</td>\n",
       "      <td>2199.0</td>\n",
       "    </tr>\n",
       "  </tbody>\n",
       "</table>\n",
       "</div>"
      ],
      "text/plain": [
       "      name latest_week  cumulative_prisoner_cases  prisoner_cases_pct  \\\n",
       "28  Nevada  06/22/2021                       4576            0.369509   \n",
       "\n",
       "    cumulative_prisoner_deaths  prisoner_deaths_pct  cumulative_staff_cases  \\\n",
       "28                          57             0.004603                    1006   \n",
       "\n",
       "    staff_cases_pct  cumulative_staff_deaths  staff_deaths_pct  region  \\\n",
       "28         0.379909                        3          0.001133     4.0   \n",
       "\n",
       "    max_inmate_pop  max_staff_pop  \n",
       "28          5621.0         2199.0  "
      ]
     },
     "execution_count": 1072,
     "metadata": {},
     "output_type": "execute_result"
    }
   ],
   "source": [
    "#State with the highest percentage of prisoner deaths\n",
    "model_rates.loc[model_rates['prisoner_deaths_pct'] == model_rates['prisoner_deaths_pct'].max()]"
   ]
  },
  {
   "cell_type": "code",
   "execution_count": 1073,
   "metadata": {
    "scrolled": true
   },
   "outputs": [
    {
     "data": {
      "text/html": [
       "<div>\n",
       "<style scoped>\n",
       "    .dataframe tbody tr th:only-of-type {\n",
       "        vertical-align: middle;\n",
       "    }\n",
       "\n",
       "    .dataframe tbody tr th {\n",
       "        vertical-align: top;\n",
       "    }\n",
       "\n",
       "    .dataframe thead th {\n",
       "        text-align: right;\n",
       "    }\n",
       "</style>\n",
       "<table border=\"1\" class=\"dataframe\">\n",
       "  <thead>\n",
       "    <tr style=\"text-align: right;\">\n",
       "      <th></th>\n",
       "      <th>name</th>\n",
       "      <th>latest_week</th>\n",
       "      <th>cumulative_prisoner_cases</th>\n",
       "      <th>prisoner_cases_pct</th>\n",
       "      <th>cumulative_prisoner_deaths</th>\n",
       "      <th>prisoner_deaths_pct</th>\n",
       "      <th>cumulative_staff_cases</th>\n",
       "      <th>staff_cases_pct</th>\n",
       "      <th>cumulative_staff_deaths</th>\n",
       "      <th>staff_deaths_pct</th>\n",
       "      <th>region</th>\n",
       "      <th>max_inmate_pop</th>\n",
       "      <th>max_staff_pop</th>\n",
       "    </tr>\n",
       "  </thead>\n",
       "  <tbody>\n",
       "    <tr>\n",
       "      <th>45</th>\n",
       "      <td>Vermont</td>\n",
       "      <td>06/22/2021</td>\n",
       "      <td>464</td>\n",
       "      <td>0.280193</td>\n",
       "      <td>0</td>\n",
       "      <td>0.0</td>\n",
       "      <td>113</td>\n",
       "      <td>0.112662</td>\n",
       "      <td>0</td>\n",
       "      <td>0.0</td>\n",
       "      <td>1.0</td>\n",
       "      <td>6900.0</td>\n",
       "      <td>2342.0</td>\n",
       "    </tr>\n",
       "  </tbody>\n",
       "</table>\n",
       "</div>"
      ],
      "text/plain": [
       "       name latest_week  cumulative_prisoner_cases  prisoner_cases_pct  \\\n",
       "45  Vermont  06/22/2021                        464            0.280193   \n",
       "\n",
       "    cumulative_prisoner_deaths  prisoner_deaths_pct  cumulative_staff_cases  \\\n",
       "45                           0                  0.0                     113   \n",
       "\n",
       "    staff_cases_pct  cumulative_staff_deaths  staff_deaths_pct  region  \\\n",
       "45         0.112662                        0               0.0     1.0   \n",
       "\n",
       "    max_inmate_pop  max_staff_pop  \n",
       "45          6900.0         2342.0  "
      ]
     },
     "execution_count": 1073,
     "metadata": {},
     "output_type": "execute_result"
    }
   ],
   "source": [
    "#state with the lowest percentage of prisoner deaths\n",
    "model_rates.loc[model_rates['prisoner_deaths_pct'] == model_rates['prisoner_deaths_pct'].min() ]"
   ]
  },
  {
   "cell_type": "code",
   "execution_count": 1002,
   "metadata": {},
   "outputs": [
    {
     "data": {
      "text/html": [
       "<div>\n",
       "<style scoped>\n",
       "    .dataframe tbody tr th:only-of-type {\n",
       "        vertical-align: middle;\n",
       "    }\n",
       "\n",
       "    .dataframe tbody tr th {\n",
       "        vertical-align: top;\n",
       "    }\n",
       "\n",
       "    .dataframe thead th {\n",
       "        text-align: right;\n",
       "    }\n",
       "</style>\n",
       "<table border=\"1\" class=\"dataframe\">\n",
       "  <thead>\n",
       "    <tr style=\"text-align: right;\">\n",
       "      <th></th>\n",
       "      <th>cumulative_prisoner_cases</th>\n",
       "      <th>prisoner_cases_pct</th>\n",
       "      <th>cumulative_prisoner_deaths</th>\n",
       "      <th>prisoner_deaths_pct</th>\n",
       "      <th>cumulative_staff_cases</th>\n",
       "      <th>staff_cases_pct</th>\n",
       "      <th>cumulative_staff_deaths</th>\n",
       "      <th>staff_deaths_pct</th>\n",
       "      <th>region</th>\n",
       "      <th>max_inmate_pop</th>\n",
       "      <th>max_staff_pop</th>\n",
       "      <th>clusters</th>\n",
       "      <th>dcluster</th>\n",
       "      <th>prisoner_deaths_per_case</th>\n",
       "      <th>staff_deaths_per_case</th>\n",
       "    </tr>\n",
       "    <tr>\n",
       "      <th>name</th>\n",
       "      <th></th>\n",
       "      <th></th>\n",
       "      <th></th>\n",
       "      <th></th>\n",
       "      <th></th>\n",
       "      <th></th>\n",
       "      <th></th>\n",
       "      <th></th>\n",
       "      <th></th>\n",
       "      <th></th>\n",
       "      <th></th>\n",
       "      <th></th>\n",
       "      <th></th>\n",
       "      <th></th>\n",
       "      <th></th>\n",
       "    </tr>\n",
       "  </thead>\n",
       "  <tbody>\n",
       "    <tr>\n",
       "      <th>Michigan</th>\n",
       "      <td>26694</td>\n",
       "      <td>0.699235</td>\n",
       "      <td>141</td>\n",
       "      <td>0.003693</td>\n",
       "      <td>4403</td>\n",
       "      <td>0.368051</td>\n",
       "      <td>6</td>\n",
       "      <td>0.000502</td>\n",
       "      <td>3.0</td>\n",
       "      <td>7969.0</td>\n",
       "      <td>4764.0</td>\n",
       "      <td>0</td>\n",
       "      <td>-1</td>\n",
       "      <td>0.005282</td>\n",
       "      <td>0.001363</td>\n",
       "    </tr>\n",
       "  </tbody>\n",
       "</table>\n",
       "</div>"
      ],
      "text/plain": [
       "          cumulative_prisoner_cases  prisoner_cases_pct  \\\n",
       "name                                                      \n",
       "Michigan                      26694            0.699235   \n",
       "\n",
       "          cumulative_prisoner_deaths  prisoner_deaths_pct  \\\n",
       "name                                                        \n",
       "Michigan                         141             0.003693   \n",
       "\n",
       "          cumulative_staff_cases  staff_cases_pct  cumulative_staff_deaths  \\\n",
       "name                                                                         \n",
       "Michigan                    4403         0.368051                        6   \n",
       "\n",
       "          staff_deaths_pct  region  max_inmate_pop  max_staff_pop  clusters  \\\n",
       "name                                                                          \n",
       "Michigan          0.000502     3.0          7969.0         4764.0         0   \n",
       "\n",
       "          dcluster  prisoner_deaths_per_case  staff_deaths_per_case  \n",
       "name                                                                 \n",
       "Michigan        -1                  0.005282               0.001363  "
      ]
     },
     "execution_count": 1002,
     "metadata": {},
     "output_type": "execute_result"
    }
   ],
   "source": [
    "#State with the highest percentage of prisoner deaths\n",
    "model_rates.loc[model_rates['prisoner_cases_pct'] == model_rates['prisoner_cases_pct'].max()]"
   ]
  },
  {
   "cell_type": "code",
   "execution_count": 1074,
   "metadata": {},
   "outputs": [],
   "source": [
    "#Creating columns for the rate of death per case\n",
    "model_rates['prisoner_deaths_per_case'] = model_rates['cumulative_prisoner_deaths']/model_rates['cumulative_prisoner_cases']\n",
    "model_rates['staff_deaths_per_case'] = model_rates['cumulative_staff_deaths']/model_rates['cumulative_staff_cases']"
   ]
  },
  {
   "cell_type": "code",
   "execution_count": 937,
   "metadata": {
    "scrolled": true
   },
   "outputs": [
    {
     "data": {
      "text/html": [
       "<div>\n",
       "<style scoped>\n",
       "    .dataframe tbody tr th:only-of-type {\n",
       "        vertical-align: middle;\n",
       "    }\n",
       "\n",
       "    .dataframe tbody tr th {\n",
       "        vertical-align: top;\n",
       "    }\n",
       "\n",
       "    .dataframe thead th {\n",
       "        text-align: right;\n",
       "    }\n",
       "</style>\n",
       "<table border=\"1\" class=\"dataframe\">\n",
       "  <thead>\n",
       "    <tr style=\"text-align: right;\">\n",
       "      <th></th>\n",
       "      <th>cumulative_prisoner_cases</th>\n",
       "      <th>prisoner_cases_pct</th>\n",
       "      <th>cumulative_prisoner_deaths</th>\n",
       "      <th>prisoner_deaths_pct</th>\n",
       "      <th>cumulative_staff_cases</th>\n",
       "      <th>staff_cases_pct</th>\n",
       "      <th>cumulative_staff_deaths</th>\n",
       "      <th>staff_deaths_pct</th>\n",
       "      <th>region</th>\n",
       "      <th>max_inmate_pop</th>\n",
       "      <th>max_staff_pop</th>\n",
       "      <th>clusters</th>\n",
       "      <th>dcluster</th>\n",
       "      <th>prisoner_deaths_per_case</th>\n",
       "      <th>staff_deaths_per_case</th>\n",
       "    </tr>\n",
       "    <tr>\n",
       "      <th>name</th>\n",
       "      <th></th>\n",
       "      <th></th>\n",
       "      <th></th>\n",
       "      <th></th>\n",
       "      <th></th>\n",
       "      <th></th>\n",
       "      <th></th>\n",
       "      <th></th>\n",
       "      <th></th>\n",
       "      <th></th>\n",
       "      <th></th>\n",
       "      <th></th>\n",
       "      <th></th>\n",
       "      <th></th>\n",
       "      <th></th>\n",
       "    </tr>\n",
       "  </thead>\n",
       "  <tbody>\n",
       "    <tr>\n",
       "      <th>Alabama</th>\n",
       "      <td>1661</td>\n",
       "      <td>0.078668</td>\n",
       "      <td>66</td>\n",
       "      <td>0.003126</td>\n",
       "      <td>1056</td>\n",
       "      <td>0.278481</td>\n",
       "      <td>3</td>\n",
       "      <td>0.000791</td>\n",
       "      <td>2.0</td>\n",
       "      <td>21114.0</td>\n",
       "      <td>3792.0</td>\n",
       "      <td>0</td>\n",
       "      <td>0</td>\n",
       "      <td>0.039735</td>\n",
       "      <td>0.002841</td>\n",
       "    </tr>\n",
       "    <tr>\n",
       "      <th>Alaska</th>\n",
       "      <td>2440</td>\n",
       "      <td>0.510888</td>\n",
       "      <td>5</td>\n",
       "      <td>0.001047</td>\n",
       "      <td>332</td>\n",
       "      <td>0.224173</td>\n",
       "      <td>0</td>\n",
       "      <td>0.000000</td>\n",
       "      <td>4.0</td>\n",
       "      <td>4776.0</td>\n",
       "      <td>1481.0</td>\n",
       "      <td>0</td>\n",
       "      <td>1</td>\n",
       "      <td>0.002049</td>\n",
       "      <td>0.000000</td>\n",
       "    </tr>\n",
       "    <tr>\n",
       "      <th>Arizona</th>\n",
       "      <td>12328</td>\n",
       "      <td>0.291029</td>\n",
       "      <td>65</td>\n",
       "      <td>0.001534</td>\n",
       "      <td>2787</td>\n",
       "      <td>0.306432</td>\n",
       "      <td>1</td>\n",
       "      <td>0.000110</td>\n",
       "      <td>4.0</td>\n",
       "      <td>42360.0</td>\n",
       "      <td>9095.0</td>\n",
       "      <td>0</td>\n",
       "      <td>1</td>\n",
       "      <td>0.005273</td>\n",
       "      <td>0.000359</td>\n",
       "    </tr>\n",
       "    <tr>\n",
       "      <th>Arkansas</th>\n",
       "      <td>11425</td>\n",
       "      <td>0.652783</td>\n",
       "      <td>52</td>\n",
       "      <td>0.002971</td>\n",
       "      <td>813</td>\n",
       "      <td>0.148901</td>\n",
       "      <td>4</td>\n",
       "      <td>0.000733</td>\n",
       "      <td>2.0</td>\n",
       "      <td>17502.0</td>\n",
       "      <td>5460.0</td>\n",
       "      <td>0</td>\n",
       "      <td>-1</td>\n",
       "      <td>0.004551</td>\n",
       "      <td>0.004920</td>\n",
       "    </tr>\n",
       "    <tr>\n",
       "      <th>California</th>\n",
       "      <td>49395</td>\n",
       "      <td>0.419886</td>\n",
       "      <td>227</td>\n",
       "      <td>0.001930</td>\n",
       "      <td>17002</td>\n",
       "      <td>0.267870</td>\n",
       "      <td>28</td>\n",
       "      <td>0.000441</td>\n",
       "      <td>4.0</td>\n",
       "      <td>117639.0</td>\n",
       "      <td>63471.0</td>\n",
       "      <td>1</td>\n",
       "      <td>-1</td>\n",
       "      <td>0.004596</td>\n",
       "      <td>0.001647</td>\n",
       "    </tr>\n",
       "  </tbody>\n",
       "</table>\n",
       "</div>"
      ],
      "text/plain": [
       "            cumulative_prisoner_cases  prisoner_cases_pct  \\\n",
       "name                                                        \n",
       "Alabama                          1661            0.078668   \n",
       "Alaska                           2440            0.510888   \n",
       "Arizona                         12328            0.291029   \n",
       "Arkansas                        11425            0.652783   \n",
       "California                      49395            0.419886   \n",
       "\n",
       "            cumulative_prisoner_deaths  prisoner_deaths_pct  \\\n",
       "name                                                          \n",
       "Alabama                             66             0.003126   \n",
       "Alaska                               5             0.001047   \n",
       "Arizona                             65             0.001534   \n",
       "Arkansas                            52             0.002971   \n",
       "California                         227             0.001930   \n",
       "\n",
       "            cumulative_staff_cases  staff_cases_pct  cumulative_staff_deaths  \\\n",
       "name                                                                           \n",
       "Alabama                       1056         0.278481                        3   \n",
       "Alaska                         332         0.224173                        0   \n",
       "Arizona                       2787         0.306432                        1   \n",
       "Arkansas                       813         0.148901                        4   \n",
       "California                   17002         0.267870                       28   \n",
       "\n",
       "            staff_deaths_pct  region  max_inmate_pop  max_staff_pop  clusters  \\\n",
       "name                                                                            \n",
       "Alabama             0.000791     2.0         21114.0         3792.0         0   \n",
       "Alaska              0.000000     4.0          4776.0         1481.0         0   \n",
       "Arizona             0.000110     4.0         42360.0         9095.0         0   \n",
       "Arkansas            0.000733     2.0         17502.0         5460.0         0   \n",
       "California          0.000441     4.0        117639.0        63471.0         1   \n",
       "\n",
       "            dcluster  prisoner_deaths_per_case  staff_deaths_per_case  \n",
       "name                                                                   \n",
       "Alabama            0                  0.039735               0.002841  \n",
       "Alaska             1                  0.002049               0.000000  \n",
       "Arizona            1                  0.005273               0.000359  \n",
       "Arkansas          -1                  0.004551               0.004920  \n",
       "California        -1                  0.004596               0.001647  "
      ]
     },
     "execution_count": 937,
     "metadata": {},
     "output_type": "execute_result"
    }
   ],
   "source": [
    "model_rates.head()"
   ]
  },
  {
   "cell_type": "code",
   "execution_count": 1170,
   "metadata": {
    "scrolled": true
   },
   "outputs": [
    {
     "name": "stdout",
     "output_type": "stream",
     "text": [
      "Staff death rate per case : 0.0017045603011330826\n",
      "Inmate death rate per case : 0.007497153055955591\n"
     ]
    }
   ],
   "source": [
    "print(\"Staff death rate per case :\",model_rates['staff_deaths_per_case'].mean())\n",
    "print(\"Inmate death rate per case :\",model_rates['prisoner_deaths_per_case'].mean())"
   ]
  },
  {
   "cell_type": "markdown",
   "metadata": {},
   "source": [
    "On average prisoners who contrated Covid-19 were 7 times more likely to die from the disease than staff members"
   ]
  },
  {
   "cell_type": "code",
   "execution_count": 1077,
   "metadata": {
    "scrolled": true
   },
   "outputs": [
    {
     "data": {
      "text/plain": [
       "name                          0\n",
       "latest_week                   0\n",
       "cumulative_prisoner_cases     0\n",
       "prisoner_cases_pct            0\n",
       "cumulative_prisoner_deaths    0\n",
       "prisoner_deaths_pct           0\n",
       "cumulative_staff_cases        0\n",
       "staff_cases_pct               5\n",
       "cumulative_staff_deaths       0\n",
       "staff_deaths_pct              5\n",
       "region                        0\n",
       "max_inmate_pop                0\n",
       "max_staff_pop                 3\n",
       "prisoner_deaths_per_case      0\n",
       "staff_deaths_per_case         0\n",
       "dtype: int64"
      ]
     },
     "execution_count": 1077,
     "metadata": {},
     "output_type": "execute_result"
    }
   ],
   "source": [
    "#Checking the null values to prepare for modeling\n",
    "model_rates.isnull().sum()"
   ]
  },
  {
   "cell_type": "code",
   "execution_count": 1080,
   "metadata": {},
   "outputs": [],
   "source": [
    "#Imputing for null values\n",
    "model_rates['staff_cases_pct'] = model_rates['staff_cases_pct'].fillna(model_rates['staff_cases_pct'].median())\n",
    "model_rates['staff_deaths_pct'] = model_rates['staff_deaths_pct'].fillna(model_rates['staff_deaths_pct'].median())\n",
    "model_rates['max_staff_pop'] = model_rates['max_staff_pop'].fillna(model_rates['max_staff_pop'].median())"
   ]
  },
  {
   "cell_type": "code",
   "execution_count": 1081,
   "metadata": {
    "scrolled": true
   },
   "outputs": [
    {
     "data": {
      "text/plain": [
       "name                          0\n",
       "latest_week                   0\n",
       "cumulative_prisoner_cases     0\n",
       "prisoner_cases_pct            0\n",
       "cumulative_prisoner_deaths    0\n",
       "prisoner_deaths_pct           0\n",
       "cumulative_staff_cases        0\n",
       "staff_cases_pct               0\n",
       "cumulative_staff_deaths       0\n",
       "staff_deaths_pct              0\n",
       "region                        0\n",
       "max_inmate_pop                0\n",
       "max_staff_pop                 0\n",
       "prisoner_deaths_per_case      0\n",
       "staff_deaths_per_case         0\n",
       "dtype: int64"
      ]
     },
     "execution_count": 1081,
     "metadata": {},
     "output_type": "execute_result"
    }
   ],
   "source": [
    "model_rates.isnull().sum()"
   ]
  },
  {
   "cell_type": "markdown",
   "metadata": {},
   "source": [
    "Additional columns were added to measure the rate of people who contracted the disease and then died from it. Then any missing values were filled with either the median or the mean of the column."
   ]
  },
  {
   "cell_type": "markdown",
   "metadata": {},
   "source": [
    "# Modeling \n",
    "---"
   ]
  },
  {
   "cell_type": "markdown",
   "metadata": {},
   "source": [
    "## Kmeans Clustering"
   ]
  },
  {
   "cell_type": "code",
   "execution_count": 1082,
   "metadata": {},
   "outputs": [],
   "source": [
    "#Importing clustering package\n",
    "import sklearn.cluster as cluster"
   ]
  },
  {
   "cell_type": "code",
   "execution_count": 1083,
   "metadata": {},
   "outputs": [
    {
     "data": {
      "text/plain": [
       "(51, 15)"
      ]
     },
     "execution_count": 1083,
     "metadata": {},
     "output_type": "execute_result"
    }
   ],
   "source": [
    "#Checking the number of columns and rows\n",
    "model_rates.shape"
   ]
  },
  {
   "cell_type": "code",
   "execution_count": 1084,
   "metadata": {
    "scrolled": false
   },
   "outputs": [
    {
     "data": {
      "text/plain": [
       "name                           object\n",
       "latest_week                    object\n",
       "cumulative_prisoner_cases       int64\n",
       "prisoner_cases_pct            float64\n",
       "cumulative_prisoner_deaths      int64\n",
       "prisoner_deaths_pct           float64\n",
       "cumulative_staff_cases          int64\n",
       "staff_cases_pct               float64\n",
       "cumulative_staff_deaths         int64\n",
       "staff_deaths_pct              float64\n",
       "region                        float64\n",
       "max_inmate_pop                float64\n",
       "max_staff_pop                 float64\n",
       "prisoner_deaths_per_case      float64\n",
       "staff_deaths_per_case         float64\n",
       "dtype: object"
      ]
     },
     "execution_count": 1084,
     "metadata": {},
     "output_type": "execute_result"
    }
   ],
   "source": [
    "#Verifying datatypes\n",
    "model_rates.dtypes"
   ]
  },
  {
   "cell_type": "code",
   "execution_count": 1085,
   "metadata": {},
   "outputs": [],
   "source": [
    "#Preparing the data for the model\n",
    "model_rates = model_rates.set_index('name').drop('latest_week', axis = 1)"
   ]
  },
  {
   "cell_type": "code",
   "execution_count": 1086,
   "metadata": {},
   "outputs": [],
   "source": [
    "#Scaling the data\n",
    "sc = StandardScaler()\n",
    "X_scaled = sc.fit_transform(model_rates)"
   ]
  },
  {
   "cell_type": "code",
   "execution_count": 1087,
   "metadata": {},
   "outputs": [],
   "source": [
    "#Initiating and performing the cluster\n",
    "kmeans = cluster.KMeans(n_clusters = 2, init = 'k-means++')\n",
    "kmeans = kmeans.fit(X_scaled)"
   ]
  },
  {
   "cell_type": "code",
   "execution_count": 1088,
   "metadata": {},
   "outputs": [],
   "source": [
    "#Creating a new column that shows the cluster for each state\n",
    "model_rates['clusters'] = kmeans.labels_"
   ]
  },
  {
   "cell_type": "code",
   "execution_count": 1090,
   "metadata": {
    "scrolled": true
   },
   "outputs": [
    {
     "data": {
      "text/html": [
       "<div>\n",
       "<style scoped>\n",
       "    .dataframe tbody tr th:only-of-type {\n",
       "        vertical-align: middle;\n",
       "    }\n",
       "\n",
       "    .dataframe tbody tr th {\n",
       "        vertical-align: top;\n",
       "    }\n",
       "\n",
       "    .dataframe thead th {\n",
       "        text-align: right;\n",
       "    }\n",
       "</style>\n",
       "<table border=\"1\" class=\"dataframe\">\n",
       "  <thead>\n",
       "    <tr style=\"text-align: right;\">\n",
       "      <th></th>\n",
       "      <th>cumulative_prisoner_cases</th>\n",
       "      <th>prisoner_cases_pct</th>\n",
       "      <th>cumulative_prisoner_deaths</th>\n",
       "      <th>prisoner_deaths_pct</th>\n",
       "      <th>cumulative_staff_cases</th>\n",
       "      <th>staff_cases_pct</th>\n",
       "      <th>cumulative_staff_deaths</th>\n",
       "      <th>staff_deaths_pct</th>\n",
       "      <th>region</th>\n",
       "      <th>max_inmate_pop</th>\n",
       "      <th>max_staff_pop</th>\n",
       "      <th>prisoner_deaths_per_case</th>\n",
       "      <th>staff_deaths_per_case</th>\n",
       "      <th>clusters</th>\n",
       "    </tr>\n",
       "    <tr>\n",
       "      <th>name</th>\n",
       "      <th></th>\n",
       "      <th></th>\n",
       "      <th></th>\n",
       "      <th></th>\n",
       "      <th></th>\n",
       "      <th></th>\n",
       "      <th></th>\n",
       "      <th></th>\n",
       "      <th></th>\n",
       "      <th></th>\n",
       "      <th></th>\n",
       "      <th></th>\n",
       "      <th></th>\n",
       "      <th></th>\n",
       "    </tr>\n",
       "  </thead>\n",
       "  <tbody>\n",
       "    <tr>\n",
       "      <th>Alabama</th>\n",
       "      <td>1661</td>\n",
       "      <td>0.078668</td>\n",
       "      <td>66</td>\n",
       "      <td>0.003126</td>\n",
       "      <td>1056</td>\n",
       "      <td>0.278481</td>\n",
       "      <td>3</td>\n",
       "      <td>0.000791</td>\n",
       "      <td>2.0</td>\n",
       "      <td>21114.0</td>\n",
       "      <td>3792.0</td>\n",
       "      <td>0.039735</td>\n",
       "      <td>0.002841</td>\n",
       "      <td>0</td>\n",
       "    </tr>\n",
       "    <tr>\n",
       "      <th>Alaska</th>\n",
       "      <td>2440</td>\n",
       "      <td>0.510888</td>\n",
       "      <td>5</td>\n",
       "      <td>0.001047</td>\n",
       "      <td>332</td>\n",
       "      <td>0.224173</td>\n",
       "      <td>0</td>\n",
       "      <td>0.000000</td>\n",
       "      <td>4.0</td>\n",
       "      <td>4776.0</td>\n",
       "      <td>1481.0</td>\n",
       "      <td>0.002049</td>\n",
       "      <td>0.000000</td>\n",
       "      <td>0</td>\n",
       "    </tr>\n",
       "    <tr>\n",
       "      <th>Arizona</th>\n",
       "      <td>12328</td>\n",
       "      <td>0.291029</td>\n",
       "      <td>65</td>\n",
       "      <td>0.001534</td>\n",
       "      <td>2787</td>\n",
       "      <td>0.306432</td>\n",
       "      <td>1</td>\n",
       "      <td>0.000110</td>\n",
       "      <td>4.0</td>\n",
       "      <td>42360.0</td>\n",
       "      <td>9095.0</td>\n",
       "      <td>0.005273</td>\n",
       "      <td>0.000359</td>\n",
       "      <td>0</td>\n",
       "    </tr>\n",
       "    <tr>\n",
       "      <th>Arkansas</th>\n",
       "      <td>11425</td>\n",
       "      <td>0.652783</td>\n",
       "      <td>52</td>\n",
       "      <td>0.002971</td>\n",
       "      <td>813</td>\n",
       "      <td>0.148901</td>\n",
       "      <td>4</td>\n",
       "      <td>0.000733</td>\n",
       "      <td>2.0</td>\n",
       "      <td>17502.0</td>\n",
       "      <td>5460.0</td>\n",
       "      <td>0.004551</td>\n",
       "      <td>0.004920</td>\n",
       "      <td>0</td>\n",
       "    </tr>\n",
       "    <tr>\n",
       "      <th>California</th>\n",
       "      <td>49395</td>\n",
       "      <td>0.419886</td>\n",
       "      <td>227</td>\n",
       "      <td>0.001930</td>\n",
       "      <td>17002</td>\n",
       "      <td>0.267870</td>\n",
       "      <td>28</td>\n",
       "      <td>0.000441</td>\n",
       "      <td>4.0</td>\n",
       "      <td>117639.0</td>\n",
       "      <td>63471.0</td>\n",
       "      <td>0.004596</td>\n",
       "      <td>0.001647</td>\n",
       "      <td>1</td>\n",
       "    </tr>\n",
       "  </tbody>\n",
       "</table>\n",
       "</div>"
      ],
      "text/plain": [
       "            cumulative_prisoner_cases  prisoner_cases_pct  \\\n",
       "name                                                        \n",
       "Alabama                          1661            0.078668   \n",
       "Alaska                           2440            0.510888   \n",
       "Arizona                         12328            0.291029   \n",
       "Arkansas                        11425            0.652783   \n",
       "California                      49395            0.419886   \n",
       "\n",
       "            cumulative_prisoner_deaths  prisoner_deaths_pct  \\\n",
       "name                                                          \n",
       "Alabama                             66             0.003126   \n",
       "Alaska                               5             0.001047   \n",
       "Arizona                             65             0.001534   \n",
       "Arkansas                            52             0.002971   \n",
       "California                         227             0.001930   \n",
       "\n",
       "            cumulative_staff_cases  staff_cases_pct  cumulative_staff_deaths  \\\n",
       "name                                                                           \n",
       "Alabama                       1056         0.278481                        3   \n",
       "Alaska                         332         0.224173                        0   \n",
       "Arizona                       2787         0.306432                        1   \n",
       "Arkansas                       813         0.148901                        4   \n",
       "California                   17002         0.267870                       28   \n",
       "\n",
       "            staff_deaths_pct  region  max_inmate_pop  max_staff_pop  \\\n",
       "name                                                                  \n",
       "Alabama             0.000791     2.0         21114.0         3792.0   \n",
       "Alaska              0.000000     4.0          4776.0         1481.0   \n",
       "Arizona             0.000110     4.0         42360.0         9095.0   \n",
       "Arkansas            0.000733     2.0         17502.0         5460.0   \n",
       "California          0.000441     4.0        117639.0        63471.0   \n",
       "\n",
       "            prisoner_deaths_per_case  staff_deaths_per_case  clusters  \n",
       "name                                                                   \n",
       "Alabama                     0.039735               0.002841         0  \n",
       "Alaska                      0.002049               0.000000         0  \n",
       "Arizona                     0.005273               0.000359         0  \n",
       "Arkansas                    0.004551               0.004920         0  \n",
       "California                  0.004596               0.001647         1  "
      ]
     },
     "execution_count": 1090,
     "metadata": {},
     "output_type": "execute_result"
    }
   ],
   "source": [
    "model_rates.head()"
   ]
  },
  {
   "cell_type": "code",
   "execution_count": 1091,
   "metadata": {
    "scrolled": false
   },
   "outputs": [
    {
     "data": {
      "text/plain": [
       "0    47\n",
       "1     4\n",
       "Name: clusters, dtype: int64"
      ]
     },
     "execution_count": 1091,
     "metadata": {},
     "output_type": "execute_result"
    }
   ],
   "source": [
    "#Checking the number of clusters and \n",
    "model_rates['clusters'].value_counts()"
   ]
  },
  {
   "cell_type": "code",
   "execution_count": 1095,
   "metadata": {
    "scrolled": false
   },
   "outputs": [
    {
     "data": {
      "text/html": [
       "<div>\n",
       "<style scoped>\n",
       "    .dataframe tbody tr th:only-of-type {\n",
       "        vertical-align: middle;\n",
       "    }\n",
       "\n",
       "    .dataframe tbody tr th {\n",
       "        vertical-align: top;\n",
       "    }\n",
       "\n",
       "    .dataframe thead th {\n",
       "        text-align: right;\n",
       "    }\n",
       "</style>\n",
       "<table border=\"1\" class=\"dataframe\">\n",
       "  <thead>\n",
       "    <tr style=\"text-align: right;\">\n",
       "      <th></th>\n",
       "      <th>k</th>\n",
       "      <th>inertia</th>\n",
       "      <th>silhouette</th>\n",
       "    </tr>\n",
       "  </thead>\n",
       "  <tbody>\n",
       "    <tr>\n",
       "      <th>0</th>\n",
       "      <td>2</td>\n",
       "      <td>387.628263</td>\n",
       "      <td>0.485708</td>\n",
       "    </tr>\n",
       "    <tr>\n",
       "      <th>1</th>\n",
       "      <td>3</td>\n",
       "      <td>334.441949</td>\n",
       "      <td>0.160583</td>\n",
       "    </tr>\n",
       "    <tr>\n",
       "      <th>2</th>\n",
       "      <td>4</td>\n",
       "      <td>291.258449</td>\n",
       "      <td>0.164330</td>\n",
       "    </tr>\n",
       "    <tr>\n",
       "      <th>3</th>\n",
       "      <td>5</td>\n",
       "      <td>256.468653</td>\n",
       "      <td>0.189329</td>\n",
       "    </tr>\n",
       "    <tr>\n",
       "      <th>4</th>\n",
       "      <td>6</td>\n",
       "      <td>226.061473</td>\n",
       "      <td>0.170694</td>\n",
       "    </tr>\n",
       "  </tbody>\n",
       "</table>\n",
       "</div>"
      ],
      "text/plain": [
       "   k     inertia  silhouette\n",
       "0  2  387.628263    0.485708\n",
       "1  3  334.441949    0.160583\n",
       "2  4  291.258449    0.164330\n",
       "3  5  256.468653    0.189329\n",
       "4  6  226.061473    0.170694"
      ]
     },
     "execution_count": 1095,
     "metadata": {},
     "output_type": "execute_result"
    }
   ],
   "source": [
    "#Determing the best number of clusters \n",
    "best_scores = []\n",
    "for k in range(2, 15):\n",
    "  cl = KMeans(n_clusters=k)\n",
    "  cl.fit(X_scaled)\n",
    "  inertia = cl.inertia_\n",
    "  sil = silhouette_score(X_scaled, cl.labels_)\n",
    "  scores.append([k, inertia, sil])\n",
    "\n",
    "#Creating a dataset of the ressults of the number of clusters test\n",
    "best_score_df = pd.DataFrame(scores)\n",
    "best_score_df.columns = [\"k\", \"inertia\", \"silhouette\"]\n",
    "best_score_df.head()"
   ]
  },
  {
   "cell_type": "code",
   "execution_count": 1096,
   "metadata": {},
   "outputs": [
    {
     "data": {
      "text/html": [
       "<div>\n",
       "<style scoped>\n",
       "    .dataframe tbody tr th:only-of-type {\n",
       "        vertical-align: middle;\n",
       "    }\n",
       "\n",
       "    .dataframe tbody tr th {\n",
       "        vertical-align: top;\n",
       "    }\n",
       "\n",
       "    .dataframe thead th {\n",
       "        text-align: right;\n",
       "    }\n",
       "</style>\n",
       "<table border=\"1\" class=\"dataframe\">\n",
       "  <thead>\n",
       "    <tr style=\"text-align: right;\">\n",
       "      <th></th>\n",
       "      <th>k</th>\n",
       "      <th>inertia</th>\n",
       "      <th>silhouette</th>\n",
       "    </tr>\n",
       "  </thead>\n",
       "  <tbody>\n",
       "    <tr>\n",
       "      <th>58</th>\n",
       "      <td>2</td>\n",
       "      <td>474.847747</td>\n",
       "      <td>0.490439</td>\n",
       "    </tr>\n",
       "  </tbody>\n",
       "</table>\n",
       "</div>"
      ],
      "text/plain": [
       "    k     inertia  silhouette\n",
       "58  2  474.847747    0.490439"
      ]
     },
     "execution_count": 1096,
     "metadata": {},
     "output_type": "execute_result"
    }
   ],
   "source": [
    "#Veryifying the best performing number of clusters\n",
    "best_score_df.loc[best_score_df['silhouette'] == best_score_df['silhouette'].max()]"
   ]
  },
  {
   "cell_type": "code",
   "execution_count": 1097,
   "metadata": {
    "scrolled": true
   },
   "outputs": [
    {
     "data": {
      "text/plain": [
       "<AxesSubplot:xlabel='k'>"
      ]
     },
     "execution_count": 1097,
     "metadata": {},
     "output_type": "execute_result"
    },
    {
     "data": {
      "image/png": "[encoded data removed]",
      "text/plain": [
       "<Figure size 432x288 with 1 Axes>"
      ]
     },
     "metadata": {
      "needs_background": "light"
     },
     "output_type": "display_data"
    }
   ],
   "source": [
    "#plotting how silhouette score over different numbers of clusters\n",
    "best_score_df.plot(x=\"k\", y=\"silhouette\")"
   ]
  },
  {
   "cell_type": "code",
   "execution_count": 1098,
   "metadata": {
    "scrolled": true
   },
   "outputs": [
    {
     "data": {
      "text/plain": [
       "0.4771431723641308"
      ]
     },
     "execution_count": 1098,
     "metadata": {},
     "output_type": "execute_result"
    }
   ],
   "source": [
    "#Calcultating the Silhouette score\n",
    "silhouette_score(X_scaled, kmeans.labels_)"
   ]
  },
  {
   "cell_type": "code",
   "execution_count": 1128,
   "metadata": {},
   "outputs": [
    {
     "data": {
      "text/html": [
       "<div>\n",
       "<style scoped>\n",
       "    .dataframe tbody tr th:only-of-type {\n",
       "        vertical-align: middle;\n",
       "    }\n",
       "\n",
       "    .dataframe tbody tr th {\n",
       "        vertical-align: top;\n",
       "    }\n",
       "\n",
       "    .dataframe thead th {\n",
       "        text-align: right;\n",
       "    }\n",
       "</style>\n",
       "<table border=\"1\" class=\"dataframe\">\n",
       "  <thead>\n",
       "    <tr style=\"text-align: right;\">\n",
       "      <th></th>\n",
       "      <th>0</th>\n",
       "      <th>1</th>\n",
       "      <th>2</th>\n",
       "      <th>3</th>\n",
       "      <th>4</th>\n",
       "      <th>5</th>\n",
       "      <th>6</th>\n",
       "      <th>7</th>\n",
       "      <th>8</th>\n",
       "      <th>9</th>\n",
       "      <th>10</th>\n",
       "      <th>11</th>\n",
       "      <th>12</th>\n",
       "    </tr>\n",
       "  </thead>\n",
       "  <tbody>\n",
       "    <tr>\n",
       "      <th>0</th>\n",
       "      <td>5257.829787</td>\n",
       "      <td>0.346049</td>\n",
       "      <td>36.914894</td>\n",
       "      <td>0.001973</td>\n",
       "      <td>1539.531915</td>\n",
       "      <td>0.261626</td>\n",
       "      <td>2.553191</td>\n",
       "      <td>0.000433</td>\n",
       "      <td>2.574468</td>\n",
       "      <td>21808.765957</td>\n",
       "      <td>6805.340426</td>\n",
       "      <td>0.007499</td>\n",
       "      <td>0.001684</td>\n",
       "    </tr>\n",
       "    <tr>\n",
       "      <th>1</th>\n",
       "      <td>37876.750000</td>\n",
       "      <td>0.286750</td>\n",
       "      <td>244.750000</td>\n",
       "      <td>0.001934</td>\n",
       "      <td>10469.000000</td>\n",
       "      <td>0.251707</td>\n",
       "      <td>22.250000</td>\n",
       "      <td>0.000553</td>\n",
       "      <td>3.250000</td>\n",
       "      <td>78393.750000</td>\n",
       "      <td>26789.750000</td>\n",
       "      <td>0.007480</td>\n",
       "      <td>0.001942</td>\n",
       "    </tr>\n",
       "  </tbody>\n",
       "</table>\n",
       "</div>"
      ],
      "text/plain": [
       "             0         1           2         3             4         5   \\\n",
       "0   5257.829787  0.346049   36.914894  0.001973   1539.531915  0.261626   \n",
       "1  37876.750000  0.286750  244.750000  0.001934  10469.000000  0.251707   \n",
       "\n",
       "          6         7         8             9             10        11  \\\n",
       "0   2.553191  0.000433  2.574468  21808.765957   6805.340426  0.007499   \n",
       "1  22.250000  0.000553  3.250000  78393.750000  26789.750000  0.007480   \n",
       "\n",
       "         12  \n",
       "0  0.001684  \n",
       "1  0.001942  "
      ]
     },
     "execution_count": 1128,
     "metadata": {},
     "output_type": "execute_result"
    }
   ],
   "source": [
    "#Getting the centroids\n",
    "centroids = pd.DataFrame(sc.inverse_transform(kmeans.cluster_centers_))\n",
    "centroids.head()"
   ]
  },
  {
   "cell_type": "code",
   "execution_count": 1171,
   "metadata": {},
   "outputs": [
    {
     "data": {
      "text/plain": [
       "Text(0.5, 1.0, 'Centroids by cluster')"
      ]
     },
     "execution_count": 1171,
     "metadata": {},
     "output_type": "execute_result"
    },
    {
     "data": {
      "image/png": "[encoded data removed]",
      "text/plain": [
       "<Figure size 720x576 with 1 Axes>"
      ]
     },
     "metadata": {
      "needs_background": "light"
     },
     "output_type": "display_data"
    }
   ],
   "source": [
    "# Plotting the cluster centroids\n",
    "colors = [\"red\", \"blue\"]\n",
    "model_rates['color'] = model_rates['clusters'].map(lambda p: colors[p])\n",
    "\n",
    "ax = model_rates.plot(    \n",
    "    kind=\"scatter\", \n",
    "    x= 0, y= 1,\n",
    "    figsize=(10,8),\n",
    "    c = model_rates['color']\n",
    ")\n",
    "\n",
    "centroids.plot(\n",
    "    kind=\"scatter\", \n",
    "    x= 0 , y= 1, \n",
    "    marker=\"*\", c=[\"r\", \"b\"], s=550,\n",
    "    ax=ax\n",
    ");\n",
    "plt.title(\"Centroids by cluster\")"
   ]
  },
  {
   "cell_type": "code",
   "execution_count": 1099,
   "metadata": {},
   "outputs": [],
   "source": [
    "#making masks for each cluster\n",
    "cluster_0 = model_rates[\"clusters\"] == 0\n",
    "cluster_1 = model_rates[\"clusters\"] == 1"
   ]
  },
  {
   "cell_type": "code",
   "execution_count": 1158,
   "metadata": {
    "scrolled": false
   },
   "outputs": [
    {
     "data": {
      "text/plain": [
       "cumulative_prisoner_cases      5257.829787\n",
       "prisoner_cases_pct                0.346049\n",
       "cumulative_prisoner_deaths       36.914894\n",
       "prisoner_deaths_pct               0.001973\n",
       "cumulative_staff_cases         1539.531915\n",
       "staff_cases_pct                   0.261626\n",
       "cumulative_staff_deaths           2.553191\n",
       "staff_deaths_pct                  0.000433\n",
       "region                            2.574468\n",
       "max_inmate_pop                21808.765957\n",
       "max_staff_pop                  6805.340426\n",
       "prisoner_deaths_per_case          0.007499\n",
       "staff_deaths_per_case             0.001684\n",
       "clusters                          0.000000\n",
       "dtype: float64"
      ]
     },
     "execution_count": 1158,
     "metadata": {},
     "output_type": "execute_result"
    }
   ],
   "source": [
    "#Retrieving the average stats for all states in cluster 0\n",
    "model_rates[cluster_0].mean()"
   ]
  },
  {
   "cell_type": "code",
   "execution_count": 1172,
   "metadata": {},
   "outputs": [
    {
     "data": {
      "text/plain": [
       "cumulative_prisoner_cases     37876.750000\n",
       "prisoner_cases_pct                0.286750\n",
       "cumulative_prisoner_deaths      244.750000\n",
       "prisoner_deaths_pct               0.001934\n",
       "cumulative_staff_cases        10469.000000\n",
       "staff_cases_pct                   0.251707\n",
       "cumulative_staff_deaths          22.250000\n",
       "staff_deaths_pct                  0.000553\n",
       "region                            3.250000\n",
       "max_inmate_pop                78393.750000\n",
       "max_staff_pop                 26789.750000\n",
       "prisoner_deaths_per_case          0.007480\n",
       "staff_deaths_per_case             0.001942\n",
       "clusters                          1.000000\n",
       "dtype: float64"
      ]
     },
     "execution_count": 1172,
     "metadata": {},
     "output_type": "execute_result"
    }
   ],
   "source": [
    "#Retrieving the average stats for all states in cluster 1\n",
    "model_rates[cluster_1].mean()"
   ]
  },
  {
   "cell_type": "code",
   "execution_count": 1102,
   "metadata": {
    "scrolled": true
   },
   "outputs": [
    {
     "data": {
      "text/html": [
       "<div>\n",
       "<style scoped>\n",
       "    .dataframe tbody tr th:only-of-type {\n",
       "        vertical-align: middle;\n",
       "    }\n",
       "\n",
       "    .dataframe tbody tr th {\n",
       "        vertical-align: top;\n",
       "    }\n",
       "\n",
       "    .dataframe thead th {\n",
       "        text-align: right;\n",
       "    }\n",
       "</style>\n",
       "<table border=\"1\" class=\"dataframe\">\n",
       "  <thead>\n",
       "    <tr style=\"text-align: right;\">\n",
       "      <th></th>\n",
       "      <th>cumulative_prisoner_cases</th>\n",
       "      <th>prisoner_cases_pct</th>\n",
       "      <th>cumulative_prisoner_deaths</th>\n",
       "      <th>prisoner_deaths_pct</th>\n",
       "      <th>cumulative_staff_cases</th>\n",
       "      <th>staff_cases_pct</th>\n",
       "      <th>cumulative_staff_deaths</th>\n",
       "      <th>staff_deaths_pct</th>\n",
       "      <th>region</th>\n",
       "      <th>max_inmate_pop</th>\n",
       "      <th>max_staff_pop</th>\n",
       "      <th>prisoner_deaths_per_case</th>\n",
       "      <th>staff_deaths_per_case</th>\n",
       "      <th>clusters</th>\n",
       "    </tr>\n",
       "    <tr>\n",
       "      <th>name</th>\n",
       "      <th></th>\n",
       "      <th></th>\n",
       "      <th></th>\n",
       "      <th></th>\n",
       "      <th></th>\n",
       "      <th></th>\n",
       "      <th></th>\n",
       "      <th></th>\n",
       "      <th></th>\n",
       "      <th></th>\n",
       "      <th></th>\n",
       "      <th></th>\n",
       "      <th></th>\n",
       "      <th></th>\n",
       "    </tr>\n",
       "  </thead>\n",
       "  <tbody>\n",
       "    <tr>\n",
       "      <th>California</th>\n",
       "      <td>49395</td>\n",
       "      <td>0.419886</td>\n",
       "      <td>227</td>\n",
       "      <td>0.001930</td>\n",
       "      <td>17002</td>\n",
       "      <td>0.267870</td>\n",
       "      <td>28</td>\n",
       "      <td>0.000441</td>\n",
       "      <td>4.0</td>\n",
       "      <td>117639.0</td>\n",
       "      <td>63471.0</td>\n",
       "      <td>0.004596</td>\n",
       "      <td>0.001647</td>\n",
       "      <td>1</td>\n",
       "    </tr>\n",
       "    <tr>\n",
       "      <th>Federal</th>\n",
       "      <td>49324</td>\n",
       "      <td>0.286621</td>\n",
       "      <td>258</td>\n",
       "      <td>0.001499</td>\n",
       "      <td>7008</td>\n",
       "      <td>0.188758</td>\n",
       "      <td>4</td>\n",
       "      <td>0.000108</td>\n",
       "      <td>5.0</td>\n",
       "      <td>2232.0</td>\n",
       "      <td>1018.0</td>\n",
       "      <td>0.005231</td>\n",
       "      <td>0.000571</td>\n",
       "      <td>1</td>\n",
       "    </tr>\n",
       "    <tr>\n",
       "      <th>Florida</th>\n",
       "      <td>18072</td>\n",
       "      <td>0.192739</td>\n",
       "      <td>221</td>\n",
       "      <td>0.002357</td>\n",
       "      <td>6066</td>\n",
       "      <td>0.222859</td>\n",
       "      <td>9</td>\n",
       "      <td>0.000331</td>\n",
       "      <td>2.0</td>\n",
       "      <td>172088.0</td>\n",
       "      <td>37127.0</td>\n",
       "      <td>0.012229</td>\n",
       "      <td>0.001484</td>\n",
       "      <td>1</td>\n",
       "    </tr>\n",
       "    <tr>\n",
       "      <th>Texas</th>\n",
       "      <td>34716</td>\n",
       "      <td>0.247752</td>\n",
       "      <td>273</td>\n",
       "      <td>0.001948</td>\n",
       "      <td>11800</td>\n",
       "      <td>0.327341</td>\n",
       "      <td>48</td>\n",
       "      <td>0.001332</td>\n",
       "      <td>2.0</td>\n",
       "      <td>21616.0</td>\n",
       "      <td>5543.0</td>\n",
       "      <td>0.007864</td>\n",
       "      <td>0.004068</td>\n",
       "      <td>1</td>\n",
       "    </tr>\n",
       "  </tbody>\n",
       "</table>\n",
       "</div>"
      ],
      "text/plain": [
       "            cumulative_prisoner_cases  prisoner_cases_pct  \\\n",
       "name                                                        \n",
       "California                      49395            0.419886   \n",
       "Federal                         49324            0.286621   \n",
       "Florida                         18072            0.192739   \n",
       "Texas                           34716            0.247752   \n",
       "\n",
       "            cumulative_prisoner_deaths  prisoner_deaths_pct  \\\n",
       "name                                                          \n",
       "California                         227             0.001930   \n",
       "Federal                            258             0.001499   \n",
       "Florida                            221             0.002357   \n",
       "Texas                              273             0.001948   \n",
       "\n",
       "            cumulative_staff_cases  staff_cases_pct  cumulative_staff_deaths  \\\n",
       "name                                                                           \n",
       "California                   17002         0.267870                       28   \n",
       "Federal                       7008         0.188758                        4   \n",
       "Florida                       6066         0.222859                        9   \n",
       "Texas                        11800         0.327341                       48   \n",
       "\n",
       "            staff_deaths_pct  region  max_inmate_pop  max_staff_pop  \\\n",
       "name                                                                  \n",
       "California          0.000441     4.0        117639.0        63471.0   \n",
       "Federal             0.000108     5.0          2232.0         1018.0   \n",
       "Florida             0.000331     2.0        172088.0        37127.0   \n",
       "Texas               0.001332     2.0         21616.0         5543.0   \n",
       "\n",
       "            prisoner_deaths_per_case  staff_deaths_per_case  clusters  \n",
       "name                                                                   \n",
       "California                  0.004596               0.001647         1  \n",
       "Federal                     0.005231               0.000571         1  \n",
       "Florida                     0.012229               0.001484         1  \n",
       "Texas                       0.007864               0.004068         1  "
      ]
     },
     "execution_count": 1102,
     "metadata": {},
     "output_type": "execute_result"
    }
   ],
   "source": [
    "#Checking which states are in cluster 1 \n",
    "model_rates[cluster_1].head(10)"
   ]
  },
  {
   "cell_type": "code",
   "execution_count": 1147,
   "metadata": {
    "scrolled": false
   },
   "outputs": [
    {
     "data": {
      "text/plain": [
       "<AxesSubplot:>"
      ]
     },
     "execution_count": 1147,
     "metadata": {},
     "output_type": "execute_result"
    },
    {
     "data": {
      "image/png": "[encoded data removed]",
      "text/plain": [
       "<Figure size 720x576 with 2 Axes>"
      ]
     },
     "metadata": {
      "needs_background": "light"
     },
     "output_type": "display_data"
    }
   ],
   "source": [
    "#Checking which columns contributed the most to which cluster a state was assigned to\n",
    "plt.figure(figsize = (10,8))\n",
    "sns.heatmap(model_rates.corr()[['clusters']].sort_values(by = 'clusters', ascending = False), vmin = -1, vmax = 1, annot = True)"
   ]
  },
  {
   "cell_type": "markdown",
   "metadata": {},
   "source": [
    "After performing a clustering analysis, the states were grouped into just two different clusters. The optimal number of clusters was verified and after examinig the average values for each cluster it appears that the major defining factor of each cluster was its maximum population size. The four states with the highest populations were grouped into one cluster and all of the rest were grouped into another. When examining other factors it is interesting to note that the cluster of states with lower populations actually on average had higher rates of the spread of the disease at 35% prisoner case percentage as opposed to 28% prisoner case percentage in larger population prisons. "
   ]
  },
  {
   "cell_type": "markdown",
   "metadata": {},
   "source": [
    "## DB Scan clusters"
   ]
  },
  {
   "cell_type": "code",
   "execution_count": 1178,
   "metadata": {},
   "outputs": [
    {
     "data": {
      "text/plain": [
       "DBSCAN(eps=2.3, min_samples=4)"
      ]
     },
     "execution_count": 1178,
     "metadata": {},
     "output_type": "execute_result"
    }
   ],
   "source": [
    "#Initializing and performing the DBscan clustering\n",
    "db = DBSCAN(eps=2.3, min_samples=4)\n",
    "db.fit(X_scaled)"
   ]
  },
  {
   "cell_type": "code",
   "execution_count": 1179,
   "metadata": {},
   "outputs": [],
   "source": [
    "#Creating a column for the DBscan clusters\n",
    "model_rates['dcluster'] = db.labels_"
   ]
  },
  {
   "cell_type": "code",
   "execution_count": 1180,
   "metadata": {},
   "outputs": [
    {
     "data": {
      "text/plain": [
       " 0    31\n",
       "-1    20\n",
       "Name: dcluster, dtype: int64"
      ]
     },
     "execution_count": 1180,
     "metadata": {},
     "output_type": "execute_result"
    }
   ],
   "source": [
    "#Checking how many states were assigned to each cluster\n",
    "model_rates['dcluster'].value_counts()"
   ]
  },
  {
   "cell_type": "code",
   "execution_count": 1181,
   "metadata": {},
   "outputs": [
    {
     "data": {
      "text/plain": [
       "0.19794416046167082"
      ]
     },
     "execution_count": 1181,
     "metadata": {},
     "output_type": "execute_result"
    }
   ],
   "source": [
    "#Calculating the silhouette score of the clusters\n",
    "silhouette_score(X_scaled, db.labels_)"
   ]
  },
  {
   "cell_type": "code",
   "execution_count": 1182,
   "metadata": {},
   "outputs": [
    {
     "data": {
      "text/plain": [
       "<AxesSubplot:>"
      ]
     },
     "execution_count": 1182,
     "metadata": {},
     "output_type": "execute_result"
    },
    {
     "data": {
      "image/png": "[encoded data removed]",
      "text/plain": [
       "<Figure size 720x576 with 2 Axes>"
      ]
     },
     "metadata": {
      "needs_background": "light"
     },
     "output_type": "display_data"
    }
   ],
   "source": [
    "#Checking which columns contributed the most to which cluster a state was assigned to\n",
    "plt.figure(figsize = (10,8))\n",
    "sns.heatmap(model_rates.corr()[['dcluster']].sort_values(by = 'dcluster', ascending = False), vmin = -1, vmax = 1, annot = True)"
   ]
  },
  {
   "cell_type": "markdown",
   "metadata": {},
   "source": [
    "Performed a DBscan clustering of the data. In this analysis the data was also grouped into only two different clusters, but the silhouette score was very low which signified that the clusters did were not very different from each other and the clustering did not provide much meaningful insight. Because of this I did not further explore the DBscan clusters and focused on the KMeans clusters. It is interesting to note though that the DB clusters relied most on region and percentages than the KMeans which relied mostly cummulative numbers."
   ]
  },
  {
   "cell_type": "markdown",
   "metadata": {},
   "source": [
    "# Conclusions and Recommendations"
   ]
  },
  {
   "cell_type": "markdown",
   "metadata": {},
   "source": [
    "The goal of this project was to examine trends in the rates that inmates and staff members in different state prisons were affected by COVID-19 so that I could draw insights into what could be causing those trends. After data manipulation, feature engineering and analysis I was not able to find any major trends. From what I have done thus far the only thing that can be said is that prisons with higher populations had higher numbers of cases. Regardless of region or even prison population, by this analysis percentage wise there were no major differences that set certain states apart from others. There was no way to group good performing or bad performing states so I after all of this I think I chose the wrong kind of testing methods. \n",
    "\n",
    "In order to draw better insight I would recommend breaking the analysis down by state and possibly grouping based on percentages instead of population or region. This would be a lot more involved but would provide better insights that could be significant and used to determine what factors are protective or detrimental to prisons when protecting their inmates and staff from a pandemic. A few steps that I would recommend are:\n",
    "Including information of square footage of facilities, including data on age of inmates, including data on housing type, ie how many inmates per cell and hypothesis testing to see if there are differences in the rates of the disease in each state or even in the states with lower rates vs those with higher rates.\n"
   ]
  },
  {
   "cell_type": "code",
   "execution_count": null,
   "metadata": {},
   "outputs": [],
   "source": []
  }
 ],
 "metadata": {
  "kernelspec": {
   "display_name": "Python 3",
   "language": "python",
   "name": "python3"
  },
  "language_info": {
   "codemirror_mode": {
    "name": "ipython",
    "version": 3
   },
   "file_extension": ".py",
   "mimetype": "text/x-python",
   "name": "python",
   "nbconvert_exporter": "python",
   "pygments_lexer": "ipython3",
   "version": "3.8.5"
  }
 },
 "nbformat": 4,
 "nbformat_minor": 4
}
